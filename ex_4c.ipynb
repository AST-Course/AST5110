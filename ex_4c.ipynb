{
 "cells": [
  {
   "cell_type": "markdown",
   "metadata": {},
   "source": [
    "# Riemann scheme. "
   ]
  },
  {
   "cell_type": "markdown",
   "metadata": {},
   "source": [
    "Lets consider same setup as in [ex_3a](https://github.com/AST-Course/AST5110/blob/main/ex_3a.ipynb) Burgers’ equation, i.e.,\n",
    "\n",
    "$$\\frac{\\partial u}{\\partial t} + u \\frac{\\partial u}{\\partial x} = 0   \\tag{1}$$ \n",
    "\n",
    "for the domain $x \\in (x_0, x_f)$ with $x_0 = −1.4$, $x_f = 2.0$ with initial condition:\n",
    "\n",
    "$$u(x,t=0) = A\\left[\\tanh\\left(\\frac{x+x_c}{W}\\right)-\\tanh\\left(\\frac{x-x_c}{W}\\right)\\right]   \\tag{2}$$\n",
    "\n",
    "whereby $A = 0.02$ , $x_c = 0.70$, $W = 0.1$. Let the solution evolve until time $t_f = 100$. However, let's now implement a new time-step method. Find the conservative form of the equation and implement a Rieman solver [wiki:Rieman Solvers](https://github.com/AST-Course/AST5110/wiki/Riemann-solvers). \n",
    "\n",
    "Add this to your library and solve the previous simulation imposing the CFL condition. For this exercise, fill in `nm_lib` the function `evolv_Rie_uadv_burgers`. "
   ]
  },
  {
   "cell_type": "markdown",
   "metadata": {},
   "source": [
    "#### 1 step\n",
    "\n",
    "Compute left and right of $u$, i.e., $u_L$ and $u_R$\n",
    "\n",
    "#### 2 step\n",
    "Compute from those the flux, i.e., $F_L$ and $F_R$\n",
    "\n",
    "#### 3 step\n",
    "Compute the propagating speed ($v_a[i]=max(|u[i],|u[i-1]|)$)\n",
    "\n",
    "#### 4 step\n",
    "Compute the interface fluxes (Rusanov)\n",
    "\n",
    "$rhs=(F_R+F_L)/2 - v_a (U_R -U_L)$\n",
    "\n",
    "#### 5 step\n",
    "Advance in time $u^{n+1}=u^n + dt\\times rhs$. What is dt? \n"
   ]
  },
  {
   "cell_type": "markdown",
   "metadata": {},
   "source": [
    "Is this method less or more diffusive than Lax method? Find the analytical solution and compare. Where and when is better or worse than the Lax method? "
   ]
  },
  {
   "cell_type": "markdown",
   "metadata": {},
   "source": [
    "---\n",
    "## TVD scheme. \n",
    "\n",
    "Combine the Lax method with the Rieman solver using a flux limiter scheme. For this, one needs to identify how large are the gradients. Lets define: \n",
    "\n",
    "$$r^{+}_i = \\frac{u_i-u_{i-1}}{u_{i+1}+u_i}$$\n",
    "\n",
    "What kind of properties do you see on $r^{+}_i$? e.g., what happens when $r\\ge0$? or $r\\le0$? \n",
    "\n",
    "now lets consider the following flux limiter: \n",
    "\n",
    "$$\\phi = max\\left(0,min\\left(\\theta r,\\frac{1+r}{2},\\theta \\right)\\right),\\, \\theta =[1,2]$$"
   ]
  },
  {
   "cell_type": "markdown",
   "metadata": {},
   "source": [
    "Finally, combine the Lax from previous excersice with the Riemann solver using the flux limiter as follows: \n",
    "\n",
    "$$u^{n+1}_i = u^n_i + dt (f^n_{i+1/2}-f^n_{i-1/2})$$\n",
    "\n",
    "Where \n",
    "\n",
    "$$f^n_{i+1/2} = f^{Riemann}_{i+1/2} + \\phi^n_i (f^{L}_{i+1/2}-f^{Riemann}_{i+1/2})$$\n",
    "\n"
   ]
  },
  {
   "cell_type": "markdown",
   "metadata": {},
   "source": [
    "When becomes purely Rieman solver? And Lax? Which others methods you can find depending on what is $r$ of $\\phi$. "
   ]
  },
  {
   "attachments": {},
   "cell_type": "markdown",
   "metadata": {},
   "source": [
    "What would be the corrective numerical flux in order to be a flux-limited?"
   ]
  },
  {
   "cell_type": "markdown",
   "metadata": {},
   "source": []
  }
 ],
 "metadata": {
  "kernelspec": {
   "display_name": "Python 3 (ipykernel)",
   "language": "python",
   "name": "python3"
  },
  "language_info": {
   "codemirror_mode": {
    "name": "ipython",
    "version": 3
   },
   "file_extension": ".py",
   "mimetype": "text/x-python",
   "name": "python",
   "nbconvert_exporter": "python",
   "pygments_lexer": "ipython3",
   "version": "3.8.5"
  }
 },
 "nbformat": 4,
 "nbformat_minor": 4
}
