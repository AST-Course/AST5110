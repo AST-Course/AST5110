{
 "cells": [
  {
   "cell_type": "markdown",
   "metadata": {},
   "source": [
    "# Riemann scheme. "
   ]
  },
  {
   "cell_type": "markdown",
   "metadata": {},
   "source": [
    "Lets consider same setup as in [ex_3a](https://github.com/AST-Course/AST5110/blob/main/ex_3a.ipynb) Burgers’ equation, i.e.,\n",
    "\n",
    "$$\\frac{\\partial u}{\\partial t} + u \\frac{\\partial u}{\\partial x} = 0   \\tag{1}$$ \n",
    "\n",
    "for the domain $x \\in (x_0, x_f)$ with $x_0 = −1.4$, $x_f = 2.0$ with initial condition:\n",
    "\n",
    "$$u(x,t=0) = A\\left[\\tanh\\left(\\frac{x+x_c}{W}\\right)-\\tanh\\left(\\frac{x-x_c}{W}\\right)\\right]   \\tag{2}$$\n",
    "\n",
    "whereby $A = 0.02$ , $x_c = 0.70$, $W = 0.1$. Let the solution evolve until time $t_f = 100$. However, let's now implement a new time-step method. Find the conservative form of the equation and implement a Rieman solver [wiki:Rieman Solvers](https://github.com/AST-Course/AST5110/wiki/Riemann-solvers). \n",
    "\n",
    "Add this to your library and solve the previous simulation imposing the CFL condition. For this exercise, fill in `nm_lib` the function `evolv_Rie_uadv_burgers`. "
   ]
  },
  {
   "attachments": {},
   "cell_type": "markdown",
   "metadata": {},
   "source": [
    "**Explain why the flux becomes $u^2 /2$**"
   ]
  },
  {
   "cell_type": "code",
   "execution_count": 2,
   "metadata": {},
   "outputs": [],
   "source": [
    "import numpy as np \n",
    "import matplotlib.pyplot as plt \n",
    "from nm_lib import nm_lib as nm\n",
    "from matplotlib.animation import FuncAnimation\n",
    "from IPython.display import HTML"
   ]
  },
  {
   "cell_type": "code",
   "execution_count": 3,
   "metadata": {},
   "outputs": [],
   "source": [
    "def initial_u(xx):\n",
    "    A = 0.02\n",
    "    x_c = 0.7\n",
    "    W = 0.1\n",
    "\n",
    "    return A*(np.tanh((x+x_c)/W) - np.tanh((x-x_c)/W))"
   ]
  },
  {
   "cell_type": "code",
   "execution_count": 4,
   "metadata": {},
   "outputs": [],
   "source": [
    "nint = 128\n",
    "nump = nint +1 \n",
    "\n",
    "x0 = -1.4\n",
    "xf = 2.0\n",
    "\n",
    "nt = 100\n",
    "\n",
    "x = np.linspace(x0,xf, nump)\n",
    "\n",
    "u0 = initial_u(x)"
   ]
  },
  {
   "cell_type": "code",
   "execution_count": 14,
   "metadata": {},
   "outputs": [
    {
     "ename": "TypeError",
     "evalue": "only integer scalar arrays can be converted to a scalar index",
     "output_type": "error",
     "traceback": [
      "\u001b[1;31m---------------------------------------------------------------------------\u001b[0m",
      "\u001b[1;31mTypeError\u001b[0m                                 Traceback (most recent call last)",
      "\u001b[1;32mc:\\Users\\eier\\Documents\\Masters\\AST5110\\AST5110\\ex_4c.ipynb Cell 7\u001b[0m in \u001b[0;36m<cell line: 3>\u001b[1;34m()\u001b[0m\n\u001b[0;32m      <a href='vscode-notebook-cell:/c%3A/Users/eier/Documents/Masters/AST5110/AST5110/ex_4c.ipynb#W6sZmlsZQ%3D%3D?line=0'>1</a>\u001b[0m u_L \u001b[39m=\u001b[39m u0[:\u001b[39m-\u001b[39m\u001b[39m2\u001b[39m]\n\u001b[0;32m      <a href='vscode-notebook-cell:/c%3A/Users/eier/Documents/Masters/AST5110/AST5110/ex_4c.ipynb#W6sZmlsZQ%3D%3D?line=1'>2</a>\u001b[0m u_R \u001b[39m=\u001b[39m u0[\u001b[39m2\u001b[39m:]\n\u001b[1;32m----> <a href='vscode-notebook-cell:/c%3A/Users/eier/Documents/Masters/AST5110/AST5110/ex_4c.ipynb#W6sZmlsZQ%3D%3D?line=2'>3</a>\u001b[0m a \u001b[39m=\u001b[39m np\u001b[39m.\u001b[39;49mmax(np\u001b[39m.\u001b[39;49mabs(u_L), np\u001b[39m.\u001b[39;49mabs(u_R))\n\u001b[0;32m      <a href='vscode-notebook-cell:/c%3A/Users/eier/Documents/Masters/AST5110/AST5110/ex_4c.ipynb#W6sZmlsZQ%3D%3D?line=3'>4</a>\u001b[0m \u001b[39mprint\u001b[39m(a)\n",
      "File \u001b[1;32m<__array_function__ internals>:180\u001b[0m, in \u001b[0;36mamax\u001b[1;34m(*args, **kwargs)\u001b[0m\n",
      "File \u001b[1;32mc:\\Users\\eier\\Documents\\Python\\lib\\site-packages\\numpy\\core\\fromnumeric.py:2793\u001b[0m, in \u001b[0;36mamax\u001b[1;34m(a, axis, out, keepdims, initial, where)\u001b[0m\n\u001b[0;32m   2677\u001b[0m \u001b[39m@array_function_dispatch\u001b[39m(_amax_dispatcher)\n\u001b[0;32m   2678\u001b[0m \u001b[39mdef\u001b[39;00m \u001b[39mamax\u001b[39m(a, axis\u001b[39m=\u001b[39m\u001b[39mNone\u001b[39;00m, out\u001b[39m=\u001b[39m\u001b[39mNone\u001b[39;00m, keepdims\u001b[39m=\u001b[39mnp\u001b[39m.\u001b[39m_NoValue, initial\u001b[39m=\u001b[39mnp\u001b[39m.\u001b[39m_NoValue,\n\u001b[0;32m   2679\u001b[0m          where\u001b[39m=\u001b[39mnp\u001b[39m.\u001b[39m_NoValue):\n\u001b[0;32m   2680\u001b[0m     \u001b[39m\"\"\"\u001b[39;00m\n\u001b[0;32m   2681\u001b[0m \u001b[39m    Return the maximum of an array or maximum along an axis.\u001b[39;00m\n\u001b[0;32m   2682\u001b[0m \n\u001b[1;32m   (...)\u001b[0m\n\u001b[0;32m   2791\u001b[0m \u001b[39m    5\u001b[39;00m\n\u001b[0;32m   2792\u001b[0m \u001b[39m    \"\"\"\u001b[39;00m\n\u001b[1;32m-> 2793\u001b[0m     \u001b[39mreturn\u001b[39;00m _wrapreduction(a, np\u001b[39m.\u001b[39;49mmaximum, \u001b[39m'\u001b[39;49m\u001b[39mmax\u001b[39;49m\u001b[39m'\u001b[39;49m, axis, \u001b[39mNone\u001b[39;49;00m, out,\n\u001b[0;32m   2794\u001b[0m                           keepdims\u001b[39m=\u001b[39;49mkeepdims, initial\u001b[39m=\u001b[39;49minitial, where\u001b[39m=\u001b[39;49mwhere)\n",
      "File \u001b[1;32mc:\\Users\\eier\\Documents\\Python\\lib\\site-packages\\numpy\\core\\fromnumeric.py:86\u001b[0m, in \u001b[0;36m_wrapreduction\u001b[1;34m(obj, ufunc, method, axis, dtype, out, **kwargs)\u001b[0m\n\u001b[0;32m     83\u001b[0m         \u001b[39melse\u001b[39;00m:\n\u001b[0;32m     84\u001b[0m             \u001b[39mreturn\u001b[39;00m reduction(axis\u001b[39m=\u001b[39maxis, out\u001b[39m=\u001b[39mout, \u001b[39m*\u001b[39m\u001b[39m*\u001b[39mpasskwargs)\n\u001b[1;32m---> 86\u001b[0m \u001b[39mreturn\u001b[39;00m ufunc\u001b[39m.\u001b[39mreduce(obj, axis, dtype, out, \u001b[39m*\u001b[39m\u001b[39m*\u001b[39mpasskwargs)\n",
      "\u001b[1;31mTypeError\u001b[0m: only integer scalar arrays can be converted to a scalar index"
     ]
    }
   ],
   "source": [
    "u_L = u0[:-2]\n",
    "u_R = u0[2:]\n",
    "[abs,abs]\n",
    "a = np.max(np.abs(u_L), np.abs(u_R))\n",
    "print(a)"
   ]
  },
  {
   "cell_type": "markdown",
   "metadata": {},
   "source": [
    "#### 1 step\n",
    "\n",
    "Compute left and right of $u$, i.e., $u_L$ and $u_R$\n",
    "\n",
    "#### 2 step\n",
    "Compute from those the flux, i.e., $F_L$ and $F_R$\n",
    "\n",
    "#### 3 step\n",
    "Compute the propagating speed ($v_a[i]=max(|u[i],|u[i-1]|)$)\n",
    "\n",
    "#### 4 step\n",
    "Compute the interface fluxes (Rusanov)\n",
    "\n",
    "$rhs=(F_R+F_L)/2 - v_a (U_R -U_L)$\n",
    "\n",
    "#### 5 step\n",
    "Advance in time $u^{n+1}=u^n + dt\\times rhs$. What is dt? \n"
   ]
  },
  {
   "cell_type": "code",
   "execution_count": 15,
   "metadata": {},
   "outputs": [
    {
     "name": "stdout",
     "output_type": "stream",
     "text": [
      "[3.32611211e-08 5.65790399e-08 9.62440936e-08 1.63716442e-07\n",
      " 2.78490250e-07 4.73725561e-07 8.05827634e-07 1.37073962e-06\n",
      " 2.33165063e-06 3.96610925e-06 6.74611016e-06 1.14741633e-05\n",
      " 1.95142849e-05 3.31835675e-05 5.64143399e-05 9.58692348e-05\n",
      " 1.62805509e-04 2.76153523e-04 4.67490320e-04 7.88765124e-04\n",
      " 1.32343914e-03 2.20021153e-03 3.60371976e-03 5.76595412e-03\n",
      " 8.90800555e-03 1.31067320e-02 1.81304739e-02 2.34040462e-02\n",
      " 2.82314011e-02 3.21269519e-02 3.49630894e-02 3.68768734e-02\n",
      " 3.81029651e-02 3.88625587e-02 3.93234035e-02 3.95994572e-02\n",
      " 3.97635572e-02 3.98606630e-02 3.99179702e-02 3.99517364e-02\n",
      " 3.99716131e-02 3.99833073e-02 3.99901851e-02 3.99942294e-02\n",
      " 3.99966072e-02 3.99980051e-02 3.99988266e-02 3.99993091e-02\n",
      " 3.99995921e-02 3.99997572e-02 3.99998521e-02 3.99999042e-02\n",
      " 3.99999287e-02 3.99999327e-02 3.99999171e-02 3.99998776e-02\n",
      " 3.99998028e-02 3.99996710e-02 3.99994442e-02 3.99990567e-02\n",
      " 3.99983968e-02 3.99972736e-02 3.99953630e-02 3.99921131e-02\n",
      " 3.99865859e-02 3.99771873e-02 3.99612099e-02 3.99340607e-02\n",
      " 3.98879629e-02 3.98097920e-02 3.96775203e-02 3.94545266e-02\n",
      " 3.90809052e-02 3.84613523e-02 3.74514002e-02 3.58500549e-02\n",
      " 3.34193415e-02 2.99634885e-02 2.54812318e-02 2.03124746e-02\n",
      " 1.51016268e-02 1.05136735e-02 6.93152824e-03 4.38823096e-03\n",
      " 2.70186765e-03 1.63382864e-03 9.76923602e-04 5.80143188e-04\n",
      " 3.43099417e-04 2.02413281e-04 1.19241309e-04 7.01845764e-05\n",
      " 4.12892415e-05 2.42830232e-05 1.42788254e-05 8.39532353e-06\n",
      " 4.93578304e-06 2.90174473e-06 1.70589873e-06 1.00286375e-06\n",
      " 5.89559279e-07 3.46586126e-07 2.03748200e-07 1.19777639e-07\n",
      " 7.04137285e-08 4.13941256e-08 2.43343615e-08 1.43054367e-08\n",
      " 8.40973364e-09 4.94382779e-09 2.90632658e-09 1.70854131e-09\n",
      " 1.00439964e-09 5.90456093e-10 3.47111233e-10 2.04056168e-10\n",
      " 1.19958434e-10 7.05199255e-11 4.14565249e-11 2.43710341e-11\n",
      " 1.43269929e-11 8.42240500e-12 4.95127717e-12 2.91070501e-12\n",
      " 1.71111569e-12 1.00591313e-12 5.91344751e-13]\n"
     ]
    },
    {
     "ename": "IndexError",
     "evalue": "index 127 is out of bounds for axis 0 with size 127",
     "output_type": "error",
     "traceback": [
      "\u001b[1;31m---------------------------------------------------------------------------\u001b[0m",
      "\u001b[1;31mIndexError\u001b[0m                                Traceback (most recent call last)",
      "\u001b[1;32mc:\\Users\\eier\\Documents\\Masters\\AST5110\\AST5110\\ex_4c.ipynb Cell 9\u001b[0m in \u001b[0;36m<cell line: 23>\u001b[1;34m()\u001b[0m\n\u001b[0;32m     <a href='vscode-notebook-cell:/c%3A/Users/eier/Documents/Masters/AST5110/AST5110/ex_4c.ipynb#X11sZmlsZQ%3D%3D?line=16'>17</a>\u001b[0m         va[i] \u001b[39m=\u001b[39m np\u001b[39m.\u001b[39mmax(np\u001b[39m.\u001b[39marray([np\u001b[39m.\u001b[39mabs(uu[i]), np\u001b[39m.\u001b[39mabs(u_L[i])]))\n\u001b[0;32m     <a href='vscode-notebook-cell:/c%3A/Users/eier/Documents/Masters/AST5110/AST5110/ex_4c.ipynb#X11sZmlsZQ%3D%3D?line=20'>21</a>\u001b[0m     \u001b[39mreturn\u001b[39;00m va\n\u001b[1;32m---> <a href='vscode-notebook-cell:/c%3A/Users/eier/Documents/Masters/AST5110/AST5110/ex_4c.ipynb#X11sZmlsZQ%3D%3D?line=22'>23</a>\u001b[0m va \u001b[39m=\u001b[39m evolv_Rie_uadv_burgers(u0,nump)\n",
      "\u001b[1;32mc:\\Users\\eier\\Documents\\Masters\\AST5110\\AST5110\\ex_4c.ipynb Cell 9\u001b[0m in \u001b[0;36mevolv_Rie_uadv_burgers\u001b[1;34m(uu, numps)\u001b[0m\n\u001b[0;32m     <a href='vscode-notebook-cell:/c%3A/Users/eier/Documents/Masters/AST5110/AST5110/ex_4c.ipynb#X11sZmlsZQ%3D%3D?line=14'>15</a>\u001b[0m va \u001b[39m=\u001b[39m np\u001b[39m.\u001b[39mzeros(numps)\n\u001b[0;32m     <a href='vscode-notebook-cell:/c%3A/Users/eier/Documents/Masters/AST5110/AST5110/ex_4c.ipynb#X11sZmlsZQ%3D%3D?line=15'>16</a>\u001b[0m \u001b[39mfor\u001b[39;00m i \u001b[39min\u001b[39;00m \u001b[39mrange\u001b[39m(\u001b[39mlen\u001b[39m(va)): \n\u001b[1;32m---> <a href='vscode-notebook-cell:/c%3A/Users/eier/Documents/Masters/AST5110/AST5110/ex_4c.ipynb#X11sZmlsZQ%3D%3D?line=16'>17</a>\u001b[0m     va[i] \u001b[39m=\u001b[39m np\u001b[39m.\u001b[39mmax(np\u001b[39m.\u001b[39marray([np\u001b[39m.\u001b[39mabs(uu[i]), np\u001b[39m.\u001b[39mabs(u_L[i])]))\n\u001b[0;32m     <a href='vscode-notebook-cell:/c%3A/Users/eier/Documents/Masters/AST5110/AST5110/ex_4c.ipynb#X11sZmlsZQ%3D%3D?line=20'>21</a>\u001b[0m \u001b[39mreturn\u001b[39;00m va\n",
      "\u001b[1;31mIndexError\u001b[0m: index 127 is out of bounds for axis 0 with size 127"
     ]
    }
   ],
   "source": [
    "def evolv_Rie_uadv_burgers(uu, numps):\n",
    "\n",
    "    #Step 1:\n",
    "    u_L = uu[:-2]\n",
    "    u_R = uu[2:]\n",
    "\n",
    "    print(u_L)\n",
    "\n",
    "    #Step 2:\n",
    "    F_L = (u_L**2)/2\n",
    "    F_R = (u_R**2)/2\n",
    "\n",
    "    #Step 3: \n",
    "\n",
    "    va = np.zeros(numps)\n",
    "    for i in range(len(va)): \n",
    "        va[i] = np.max(np.array([np.abs(uu[i]), np.abs(u_L[i])]))\n",
    "    \n",
    "\n",
    "    return va\n",
    "\n",
    "va = evolv_Rie_uadv_burgers(u0,nump)\n",
    "\n",
    "\n"
   ]
  },
  {
   "cell_type": "markdown",
   "metadata": {},
   "source": [
    "Is this method less or more diffusive than Lax method? Find the analytical solution and compare. Where and when is better or worse than the Lax method? "
   ]
  },
  {
   "cell_type": "markdown",
   "metadata": {},
   "source": [
    "---\n",
    "## TVD scheme. \n",
    "\n",
    "Combine the Lax method with the Rieman solver using a flux limiter scheme. For this, one needs to identify how large are the gradients. Lets define: \n",
    "\n",
    "$$r^{+}_i = \\frac{u_i-u_{i-1}}{u_{i+1}+u_i}$$\n",
    "\n",
    "What kind of properties do you see on $r^{+}_i$? e.g., what happens when $r\\ge0$? or $r\\le0$? \n",
    "\n",
    "now lets consider the following flux limiter: \n",
    "\n",
    "$$\\phi = max\\left(0,min\\left(\\theta r,\\frac{1+r}{2},\\theta \\right)\\right),\\, \\theta =[1,2]$$"
   ]
  },
  {
   "cell_type": "markdown",
   "metadata": {},
   "source": [
    "Finally, combine the Lax from previous excersice with the Riemann solver using the flux limiter as follows: \n",
    "\n",
    "$$u^{n+1}_i = u^n_i + dt (f^n_{i+1/2}-f^n_{i-1/2})$$\n",
    "\n",
    "Where \n",
    "\n",
    "$$f^n_{i+1/2} = f^{Riemann}_{i+1/2} + \\phi^n_i (f^{L}_{i+1/2}-f^{Riemann}_{i+1/2})$$\n",
    "\n"
   ]
  },
  {
   "cell_type": "markdown",
   "metadata": {},
   "source": [
    "When becomes purely Rieman solver? And Lax? Which others methods you can find depending on what is $r$ of $\\phi$. "
   ]
  },
  {
   "cell_type": "code",
   "execution_count": null,
   "metadata": {},
   "outputs": [],
   "source": []
  }
 ],
 "metadata": {
  "kernelspec": {
   "display_name": "Python 3",
   "language": "python",
   "name": "python3"
  },
  "language_info": {
   "codemirror_mode": {
    "name": "ipython",
    "version": 3
   },
   "file_extension": ".py",
   "mimetype": "text/x-python",
   "name": "python",
   "nbconvert_exporter": "python",
   "pygments_lexer": "ipython3",
   "version": "3.9.6"
  },
  "vscode": {
   "interpreter": {
    "hash": "e3ec12b9c70088f059f3baea05772a3a2c2889530d91a5824627bd51d661a52e"
   }
  }
 },
 "nbformat": 4,
 "nbformat_minor": 4
}
