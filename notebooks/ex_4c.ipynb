{
 "cells": [
  {
   "cell_type": "markdown",
   "metadata": {},
   "source": [
    "# How to obtain the conservation form of the MHD equations? (optional) "
   ]
  },
  {
   "cell_type": "markdown",
   "metadata": {},
   "source": [
    "In [ex_2c_MHD](https://github.com/AST-Course/AST5110/blob/main/notebooks/ex_2c_MHD.ipynb), the MHD equations are written in their conservation form, which is however not the \"original\" form. \n",
    "\n",
    "The (ideal) MHD equations include:\n",
    "\n",
    "1. The  continuity equation \n",
    "$$\n",
    "\\frac{\\partial \\varrho}{\\partial t}+\\nabla\\cdot\\left(\\varrho \\mathbf{V}\\right)=0, \n",
    "$$\n",
    "\n",
    "2. The equation of motion (without physical viscosity)\n",
    "$$\n",
    "\\frac{\\partial \\varrho\\mathbf{V}}{\\partial t}+\\nabla\\cdot\\left(\\varrho\\mathbf{V}\\otimes\\mathbf{V}+p\\right)-\\mathbf{J}\\times\\mathbf{B}=\\mathbf{0}, \n",
    "$$\n",
    "\n",
    "3. Then the conservation of (total) energy is described by\n",
    "$$\n",
    "\\frac{\\partial}{\\partial t}\\left(\\varrho e+\\frac{1}{2}\\varrho\\mathbf{V}^2 +\\frac{1}{2}\\mathbf{B}^2\\right)+\\nabla\\cdot\\left[\\left(\\varrho e+\\frac{1}{2}\\varrho\\mathbf{V}^2+p\\right)\\mathbf{V}+\\mathbf{B}\\times\\left(\\mathbf{V}\\times\\mathbf{B}\\right)\\right]=0, \n",
    "$$\n",
    "\n",
    "4. The induction equation is \n",
    "$$\n",
    "\\frac{\\partial \\mathbf{B}}{\\partial t}-\\nabla\\times\\left(\\mathbf{V}\\times\\mathbf{B}\\right)=\\mathbf{0}, \n",
    "$$\n",
    "\n",
    "However, typically these equations are not directly solved in their current forms.\n",
    "\n",
    "Q1: Given that $\\mathbf{J}=\\nabla\\times\\mathbf{B}$, can you transform the equations to the conservative form? \n",
    "\n",
    "Q2: Do you find some extra terms that are not included in [ex_2c_MHD](https://github.com/AST-Course/AST5110/blob/main/notebooks/ex_2c_MHD.ipynb), or the other way around?\n",
    "\n",
    "Q3: What condition can be used to remove or add those terms? Hint: $\\nabla\\cdot \\mathbf{B}=0$."
   ]
  }
 ],
 "metadata": {
  "language_info": {
   "name": "python"
  }
 },
 "nbformat": 4,
 "nbformat_minor": 2
}
