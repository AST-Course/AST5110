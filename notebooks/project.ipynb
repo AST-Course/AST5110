{
 "cells": [
  {
   "attachments": {},
   "cell_type": "markdown",
   "metadata": {},
   "source": [
    "# Hydrodynamical PDE models"
   ]
  },
  {
   "attachments": {},
   "cell_type": "markdown",
   "metadata": {},
   "source": [
    "As modelers of stellar atmospheres, we are primarily interested in solving the equations of mass, momentum, and energy balance, along with the equations governing the evolution of the magnetic field, the transport equations for the radiation field, heat flux equations, etc. For this project, we will start with the hydrodynamic equations in 1 dimension as follows: "
   ]
  },
  {
   "attachments": {},
   "cell_type": "markdown",
   "metadata": {},
   "source": [
    "$$ \\frac{\\partial \\rho}{\\partial t} + \\nabla \\cdot (\\rho \\bf u) = 0 $$\n",
    "\n",
    "$$ \\frac{\\partial \\rho {\\bf u}}{\\partial t} + \\nabla \\cdot (\\rho {\\bf u} \\otimes {\\bf u}) = - \\nabla (P_g)$$\n",
    "\n",
    "$$ \\frac{\\partial e}{\\partial t } = -\\nabla\\cdot e {\\bf u} -P_g \\nabla \\cdot {\\bf u}$$\n",
    "\n",
    "where $\\rho$, $\\bf u$, $P_g$, and $e$ are the density, velocity vector, gas pressure, and internal energy. $\\cdot$ and $\\otimes$ are the dyadic and tensorial product, respectively. One extra equation needs to connect the pressure with the energy. For this you can use $P_g  = (\\gamma-1)e$ where $\\gamma=5/3$. Note that, in 1 dimension the operation  $\\nabla \\cdot (\\rho {\\bf u} \\otimes {\\bf u})$ becomes as follows: \n",
    "\n",
    "$$ \\nabla \\cdot (\\rho {\\bf u} \\otimes {\\bf u}) = \\frac{\\partial (\\rho u^2)}{\\partial x} $$"
   ]
  },
  {
   "attachments": {},
   "cell_type": "markdown",
   "metadata": {},
   "source": [
    "## 1- Build or select your code \n",
    "\n",
    "In this exercise, you can select one of the following options: \n",
    "\n",
    "1. Build your hydro-dynamical (HD) numerical code applying the tools/functions learned during the 6th different assessment. Solve the above set of equations in one dimension. \n",
    "\n",
    "    __A plus__ implement the [Bifrost 6th order spatial derivative, 5th order spatial interpolation](https://github.com/AST-Course/AST5110/wiki/Discretization) with the hyper-diffusion scheme (see [wiki](https://github.com/AST-Course/AST5110/wiki/Hyper-diffusive)). Note that Bifrost is using a [staggered mesh](https://github.com/AST-Course/AST5110/wiki/Staggered-mesh) where the density, pressure, energy, and temperature are cell-centered, and velocity and momentum are at the edges (in 1 dimension). \n",
    "\n",
    "    __A plus__ implement the [Flux limiter method](https://github.com/AST-Course/AST5110/wiki/Flux-limiter-method).\n",
    "\n",
    "    __A plus__ implement the [Rieman Solver method](https://github.com/AST-Course/AST5110/wiki/Rieman-Solver-method).\n",
    "\n",
    "    What would you choose for the CFL condition? \n",
    "\n",
    "2. Use the Bifrost, Ebysus, or other numerical codes you are interested in learning. \n",
    "\n",
    "    Note that I can help only with the numerical codes that I'm familiar with, but you should still select the ones you are interested in as long as you have access to them. \n"
   ]
  },
  {
   "attachments": {},
   "cell_type": "markdown",
   "metadata": {},
   "source": [
    "## 2- Test the code\n",
    "\n",
    "Set your code to run a 1D problem using the following initial conditions. The fluid is initially at rest on either side of a density and pressure jump. To the left, respectively right side of the interface, we have: \n",
    "\n",
    "$\\rho_L = 0.125$\n",
    "\n",
    "$\\rho_R = 1.0$\n",
    "\n",
    "$Pg_L = 0.125/\\gamma$\n",
    "\n",
    "$Pg_R = 1.0/\\gamma$\n",
    "\n",
    "The ratio of specific heats is chosen to be $\\gamma = 5/3$ on both sides of the interface. The units are normalized, with the density and pressure in units of the density and pressure on the left-hand side of the jump and the velocity in units of the sound speed. The length unit is the size of the domain and the time in units of the time required to cross the domain at the speed of sound.\n",
    "\n",
    "What boundary conditions would you choose?\n",
    "What do you see? \n",
    "\n",
    "This is known as the Sod-shock tube test [Sod et al. 1978](https://ui.adsabs.harvard.edu/abs/1978JCoPh..27....1S/abstract), a standard test in computational HD codes. It consists of a one-dimensional flow discontinuity problem that provides a good test of a compressible code’s ability to capture shocks and contact discontinuities within a few grid zones and produce the correct density profile in a rarefaction or expansion wave. The test can also be used to check if the code can satisfy the Rankine-Hugoniot shock jump conditions since this test has an analytical solution. If you have access, you can also look at _Computational Gasdynamics book from Culbert B. Laney_ Section 5. However, many other books will describe this problem in detail. \n",
    " \n",
    "Compare the simulation with the analytical solution. This could be used for a sanity test after new additions to the code. \n",
    "\n",
    "__Suggestion__ This test might be too complex to debug the code. However, as a starting debugging test, you can consider an advection test (constant initial velocity) of a gaussian density perturbation in pressure balance. \n"
   ]
  },
  {
   "cell_type": "markdown",
   "metadata": {},
   "source": [
    "## 3-  2D models Johan, Joel and Delfine: \n",
    "\n",
    "Expand the following equations into a two (or three) dimensions. In order to facilitate the implementation, consider step 1 and 2 already in 3D. So, the variables are 3D (nx,ny,nz). In that case, in 1D, the variables are still 3D, i.e., (nx, 1, 1). Where the derivatives out of the domain are zero, i.e., $\\frac{\\partial \\rho}{\\partial z} = 0$\n",
    "\n",
    "$ \\frac{\\partial \\rho}{\\partial t} + \\nabla \\cdot (\\rho \\bf u) = 0 $\n",
    "\n",
    "$ \\frac{\\partial \\rho {\\bf u}}{\\partial t} + \\nabla \\cdot (\\rho {\\bf u} \\otimes {\\bf u}) = - \\nabla (P_g)$\n",
    "\n",
    "$ \\frac{\\partial e}{\\partial t } = -\\nabla\\cdot e {\\bf u} -P_g \\nabla \\cdot {\\bf u}$\n",
    "\n",
    "Consider to implement Bifrost numerical scheme (derivations, interpolations and hyper diffusive term). To clarify the diadic and tensorial product as well as the multi-dimensions. The momentum conservation becomes into 2 (in 2D) or 3 (in 2.5D or 3D) equations, i.e., for the x, y and/or z components. The following operation $\\nabla \\cdot (\\rho {\\bf u} \\otimes {\\bf u})$  can be expanded as follows for the x, y and z components: \n",
    "\n",
    "$\\frac {\\partial \\rho u_x^2}{\\partial x} + \\frac {\\partial \\rho u_x u_y}{\\partial y} + \\frac {\\partial \\rho u_x u_z}{\\partial z}$\n",
    "\n",
    "$\\frac {\\partial \\rho u_y^2}{\\partial y} + \\frac {\\partial \\rho u_x u_y}{\\partial x} + \\frac {\\partial \\rho u_y u_z}{\\partial z}$\n",
    "\n",
    "$\\frac {\\partial \\rho u_z^2}{\\partial z} + \\frac {\\partial \\rho u_z u_y}{\\partial y} + \\frac {\\partial \\rho u_x u_z}{\\partial x}$\n",
    "\n",
    "which comes from the following matrix operations: \n",
    "\n",
    "$\n",
    "\\nabla \\cdot (\\rho {\\mathbf{u} \\otimes \\mathbf{u}})=\\left[\\begin{array}{c}\n",
    "\\frac{\\partial}{\\partial x} \\\\\n",
    "\\frac{\\partial}{\\partial y} \\\\\n",
    "\\frac{\\partial}{\\partial z}\n",
    "\\end{array}\\right]\n",
    "\\left(\\rho\n",
    "\\left[\\begin{array}{cccc}\n",
    "u_{x} u_{x} & u_{x} u_{y} & u_{x} u_{z} \\\\\n",
    "u_{y} u_{x} & u_{y} u_{y} & u_{y} u_{z} \\\\\n",
    "u_{z} u_{x} & u_{z} u_{y} & u_{z} u_{z}\n",
    "\\end{array}\\right]\\right)\n",
    "$\n",
    "\n",
    "\n",
    "### 3a- Test the code: \n",
    "\n",
    "For simplicity, consider a 2D gaussian profile in density which is pressure balance and with an initial velocity (like for 1D case).  I recommend that the initial velocity is diagonal. \n",
    "\n",
    "__bonus__ you can also add other test that are described here [Flash code hydro tests](http://flash.uchicago.edu/site/flashcode/user_support/flash_ug_devel/node184.html#SECTION010115000000000000000). From that list, good options are Blast, Sedov explosion, Isentropic Vortex, or Relativistic Two-dimensional Riemann (but not relativistic). \n",
    "\n",
    "Another tests: - Kelvin-Helmhotz instability in Spicules\n",
    "Kelvin-Helmhotz instability: Spicules are highly dynamic cold dens material traveling into the million degrees corona. Investigate the shear, vortices, scales, and mixing with the following initial setup. Devide the domain with background environmetal properties, 1) typical from quiet corona (i.e., 1 million K degrees and densities of $10^{-14}$ g/cm$^3$) and zero velocity 2) typical from the upper-chromosphere (i.e., 8,000 K degrees and densities of $10^{-12}$ g/cm$^3$) with 100km/s [Chintzoglou et al. 2021](https://iopscience.iop.org/article/10.3847/1538-4357/abc9b1). One could consider periodic boundary conditions if the middle of the domain is the upper chromosphere, and top and bottom corona."
   ]
  },
  {
   "cell_type": "markdown",
   "metadata": {},
   "source": [
    "## 3-  2D models Johan,\n",
    "\n",
    "Consider Newton gravity (centered), a distribution density (not static). Two disk. "
   ]
  },
  {
   "cell_type": "markdown",
   "metadata": {
    "vscode": {
     "languageId": "plaintext"
    }
   },
   "source": [
    "## 3.b External forces Delfine (2D and Newtonian gravity + rotation)\n",
    "\n",
    "Lets add an external force that will allow to add rotation or ad-hoc newtonian gravity.    \n",
    "\n",
    "$ \\frac{\\partial \\rho}{\\partial t} + \\nabla \\cdot (\\rho \\bf u) = 0 $\n",
    "\n",
    "$ \\frac{\\partial \\rho {\\bf u}}{\\partial t} + \\nabla \\cdot (\\rho {\\bf u}  \\otimes {\\bf u}) = - \\nabla (P_g) - {\\bf F(x,y)}$ \n",
    "\n",
    "$ \\frac{\\partial e}{\\partial t } = -\\nabla\\cdot e {\\bf u} -P_g \\nabla \\cdot {\\bf u} $\n",
    "\n",
    "1) Lets consider uniform density, no velocities and add the newtonian gravity (gaussian type). Let it run to see how the mass collapse. We can change different gravities values, shapes, densities etc. \n",
    "\n",
    "2) Now lets add a rotation (initial rotations). \n"
   ]
  },
  {
   "cell_type": "markdown",
   "metadata": {},
   "source": [
    "## 3. External forces Joel (add magnetic field): \n",
    "\n",
    "To add the magentic field you will need to add an extra term in the momenum equation and a new equation that will govern the magnetic field:   \n",
    "\n",
    "$ \\frac{\\partial \\rho}{\\partial t} + \\nabla \\cdot (\\rho \\bf u) = 0 $\n",
    "\n",
    "$ \\frac{\\partial \\rho {\\bf u}}{\\partial t} + \\nabla \\cdot (\\rho {\\bf u}  \\otimes {\\bf u}) = - \\nabla (P_g) + J \\times B$\n",
    "\n",
    "$ \\frac{\\partial e}{\\partial t } = -\\nabla\\cdot e {\\bf u} -P_g \\nabla \\cdot {\\bf u} $\n",
    "\n",
    "where ${\\bf J} = \\nabla \\times {\\bf B}$. It is important to have all three components for ${\\bf u}$ and ${\\bf B}$, so you need to solve the momentum equation for all three components. This is known as 1.5 or 2.5 Dimensions. On top of this, now we need to solve the evolution of the magnetic field. For this we will solve the induction equations as follows: \n",
    "\n",
    "$ \\frac{\\partial {\\bf B}}{\\partial t } = - \\nabla ({\\bf u}\\times{\\bf B}) $\n",
    "\n",
    "1) Consider simple tests in 1D and 2D involving magnetic field that checks your code, e.g., Roe shock test (1D). \n",
    "\n",
    "\n",
    "Add constant magnetic field ($B(x)$) and let it run. Nature has many examples of global dynamo. In the sun, the differential rotation leads to a global dynamo that leads to the solar cycle. Accretion disk can experience similar effects. Investigate how the magnetic field changes. \n",
    "\n",
    "__bonus__ Consider to add a time component to the external force. \n",
    "\n",
    "2) Lets add an initial rotation to the model (maybe with a gaussian distribution for the density too). Add constant magnetic field ($B(x)$) and let it run. Nature has many examples of global dynamo. In the sun, the differential rotation leads to a global dynamo that leads to the solar cycle. Accretion disk can experience similar effects. Investigate how the magnetic field changes.  And investigate how much we can bend the field line. What is the magnetic energy, etc. \n",
    "\n",
    "__bonus__ Consider to add a time component to the external force. \n"
   ]
  },
  {
   "cell_type": "markdown",
   "metadata": {},
   "source": []
  },
  {
   "cell_type": "markdown",
   "metadata": {},
   "source": [
    "## 3-  1D models Ionization recombination? Sascha\n",
    "\n",
    "Lets add the source term due to ionization and recombination (But much simpler!). We will work on a multi-fluid scenario. So, lets duplicate the system of equations: \n",
    "\n",
    "\n",
    "$ \\frac{\\partial \\rho_\\alpha}{\\partial t} + \\nabla \\cdot (\\rho_\\alpha {\\bf u_\\alpha}) =   m_\\alpha(n_\\beta\\Gamma^{ion}_{\\alpha\\beta}-n_\\alpha\\Gamma^{rec}_{\\alpha\\beta}) $\n",
    "\n",
    "$ \\frac{\\partial \\rho_\\alpha {\\bf u_\\alpha}}{\\partial t} + \\nabla \\cdot (\\rho_\\alpha {\\bf u_\\alpha} \\otimes {\\bf u_\\alpha}) = - \\nabla (P_{g\\alpha}) + \\Gamma^{ion}_{\\alpha\\beta}m_\\alpha n_\\beta\\vec{u}_\\alpha-\\Gamma^{rec}_{\\alpha\\beta}m_\\alpha n_\\beta\\vec{u}_\\beta$\n",
    "\n",
    "$ \\frac{\\partial e_\\alpha}{\\partial t } = -\\nabla\\cdot e_\\alpha {\\bf u_\\alpha} -P_{g\\alpha} \\nabla \\cdot {\\bf u_\\alpha} + Q^{ir}_{\\alpha\\beta}$\n",
    "\n",
    "where $\\alpha= [i,n]$ and $\\beta$ refer either to ions $i$ or neutrals $n$. For simplicity, lets assume hydrogen and protons and consider to impose a fix ionization and recombination rate which depends on the electron density. $Q^{ir}_{\\alpha\\beta}$ is the heating/cooling term due to the ionization, recombination. Note that $\\Gamma^{ion}_{\\alpha\\beta} = -\\Gamma^{ion}_{\\beta\\alpha}$\n",
    "\n",
    ". __Bonus__: using the approximation of [Leake_2012](https://arxiv.org/pdf/1210.1807.pdf) which, in SI, is implemented as follows: \n",
    "\n",
    "$\\Gamma^{ion}_{j,i}= n_e A_{j} \\frac{1+\\sqrt{\\frac{dE_{j}}{T^*_e}}P_{j}}{X_{j}+dE_{j}/T^*_e}\\left(\\frac{dE_{j}}{T^*_e}\\right)^K_{j} e^{-dE_{j}/T^*_e}$ where $\\{i,j\\}\\in H\\times H''$\n",
    "\n",
    "where $T^{*}_e$ is the temperature in eV. As presented by [Voronov_1997](https://www.sciencedirect.com/science/article/abs/pii/S0092640X97907324), the following coefficient $A_{j}, dE_{j}, P_{j}, X_{j}, K_{j}$ are coefficients used to approximate the ionization frequency between $j$ and $i$. For example, for Hydrogen, i.e. $j=\\text{H}$ we have: \n",
    "\n",
    "$A_{\\text{H}}=2.91\\times 10^{-14}$\n",
    "\n",
    "$dE_{\\text{H}}=13.6$ eV\n",
    "\n",
    "$P_{\\text{H}}=0$ or 1, see [Voronov_1997](https://www.sciencedirect.com/science/article/abs/pii/S0092640X97907324)\n",
    "\n",
    "$X_{\\text{H}}=0.232$\n",
    "\n",
    "$K_{\\text{H}}=0.39$\n",
    "\n",
    "Note that, assuming that the ionization frequency of a given is identical for all its exciting levels, we assume:\n",
    "$H=\\{h,I,0\\}$ and $H''=\\{h',I'\\neq I,0\\}$, where $\\{h,h'\\}'\\in[1,n_H]^2$. \n",
    "\n",
    "### Recombination Frequency \n",
    "\n",
    "Similarly, as the ionization, we solve for the recombination frequency using the simplifications described by [Leake_2012](https://arxiv.org/pdf/1210.1807.pdf), (valid only for Hydrogen plasma, i.e., $n_e = n_i$), as follows:\n",
    "\n",
    "$\\Gamma^{rec}_{i,j}= n_e\\frac{Z_{j}^2}{\\sqrt{T^{*}_e}}2.6\\times 10^{-19}$\n",
    "\n",
    "where $T^{*}_e$ is the temperature in eV. \n",
    "\n",
    "In the case where three-body recombination is considered, the ionization frequency is different. The latter is computed based on a Saha Factor defined as:\n",
    "\n",
    "$F_{i,j}^{\\text{saha}}=2.07\\, 10^{-16} \\, n_e\\, \\frac{g_i}{g_j} \\, T_e^{-1.5}\\, e^{dE_i/T_e^*}$\n",
    "\n",
    "$\\Gamma^{rec}_{i,j} =  F_{i,j}^{\\text{saha}}\\, \\nu^{ion}_{i,j}$\n",
    "\n",
    "where $g$ is a constant coefficient from Saha's law, which depends on the atom considered, and $dE_i$ is the potential ionization energy of the three-body recombination considered.\n",
    "\n",
    "Investigate the impact on the densities, and momentum when introducing a fix ionizatoin rate and it is out of equilibrium. This can be solved numerically. Consider the Sod-Shock tube for two different densities and jumps. What is the evolution in a case with very low and high ionization/recombination rate?\n",
    "\n"
   ]
  },
  {
   "attachments": {},
   "cell_type": "markdown",
   "metadata": {},
   "source": [
    "## 3-  Add a new source terms: Thermal conduction Sondre\n",
    "\n",
    "Expand the HD equations by adding thermal conduction: \n",
    "\n",
    "$ \\frac{\\partial \\rho}{\\partial t} + \\nabla \\cdot (\\rho \\bf u) = 0 $\n",
    "\n",
    "$ \\frac{\\partial \\rho {\\bf u}}{\\partial t} + \\nabla \\cdot (\\rho {\\bf u}  \\otimes {\\bf u}) = - \\nabla (P_g)$\n",
    "\n",
    "$ \\frac{\\partial e}{\\partial t } = -\\nabla\\cdot e {\\bf u} -P_g \\nabla \\cdot {\\bf u} + \\nabla \\kappa \\nabla T_g $\n",
    "\n",
    "Use the ideal equation of state: \n",
    "\n",
    "$P_g = n K_B T_g$\n",
    "\n",
    "where $n$ is the number of particles and assume everything is hydrogen. $K_B$ is the Boltzman constant. $\\kappa$ is the thermal coefficient. \n",
    "\n",
    "Note that this term is diffusive. Which numerical scheme would you use to avoid stiffness? \n",
    "\n",
    "__Challenge__: The challenge here is to implement ROCK2 (a semi-implicit method) in Bifrost (one module). \n",
    "\n",
    "### 3a- Test the code. \n",
    "\n",
    "Use the same asymptotical solutions to test the thermal conduction term as in [Ex_5](https://gitlab.com/ast5110_course/ast5110/-/blob/master/ex_5a.ipynb)\n",
    "        \n",
    "    "
   ]
  },
  {
   "attachments": {},
   "cell_type": "markdown",
   "metadata": {},
   "source": [
    "## 3-  Two system of equations: two fluids. FAN\n",
    "\n",
    "The chromosphere, transition region and corona are weakly collisional. Therefore, different fluids or species can experience different forces and consequently drift with other fluids. As a result, under these conditions, single fluid equations are not accurate enough. The presence of velocity drift between fluids could be eventually dissipate and heat the plasma. \n",
    "\n",
    "The HD equations and coupling between them is with the momentum and energy exchange as follows: \n",
    "\n",
    "$ \\frac{\\partial \\rho_\\alpha}{\\partial t} + \\nabla \\cdot (\\rho_\\alpha \\bf u_\\alpha) = 0 $\n",
    "\n",
    "$ \\frac{\\partial \\rho_\\alpha {\\bf u_\\alpha}}{\\partial t} + \\nabla \\cdot (\\rho_\\alpha {\\bf u_\\alpha} \\otimes {\\bf u_\\alpha}) = - \\nabla (P_{g\\alpha}) + \\rho_\\alpha \\nu_{\\alpha\\beta}(u_\\alpha-u_\\beta)$\n",
    "\n",
    "$ \\frac{\\partial e_\\alpha}{\\partial t } = -\\nabla\\cdot e_\\alpha {\\bf u_\\alpha} -P_{g\\alpha} \\nabla \\cdot {\\bf u_\\alpha} + Q_{\\alpha}^{\\alpha\\beta}$\n",
    "\n",
    "where $\\alpha= [i,n]$ and $\\beta$ refer either to ions $i$ or neutrals $n$. For simplicity, lets assume hydrogen and protons and consider to impose a fix collision frequency. Due to conservation $\\rho_\\alpha \\nu_{\\alpha\\beta}=\\rho_\\beta \\nu_{\\beta\\alpha}$. \n",
    "\n",
    "\n",
    "$Q_{\\alpha}^{\\alpha\\beta} = \\frac{n_{\\alpha} m_{\\alpha} \\nu_{\\alpha \\beta}}{m_{\\alpha}+m_{\\beta}} \\left[m_{\\beta}(\\vec{u}_\\beta - \\vec{u}_\\alpha)^2+\\frac{2 k_B}{\\gamma-1} \\left(T_{\\beta}-T_{\\alpha}\\right)\\right]$\n",
    "\n",
    "where $m_{\\alpha\\beta} = \\frac{m_{\\alpha}m_{\\beta}}{m_{\\alpha}+m_{\\beta}}$, and for this exercise, since we assume only hydrogen, $m_\\alpha \\approx m_\\beta$ is a good proxy. \n",
    "\n",
    "For further description of multicomponent fluids see e.g. the book by [Zhdanov 2002](https://ui.adsabs.harvard.edu/abs/2002PPCF...44.2283Z/abstract), [Khomenko et al 2014](https://ui.adsabs.harvard.edu/abs/2014PhPl...21i2901K/abstract). \n",
    "\n",
    "Goal: Learn Ebysus\n"
   ]
  },
  {
   "attachments": {},
   "cell_type": "markdown",
   "metadata": {},
   "source": [
    "### 3a- Test the code: \n",
    "\n",
    "Consider the following tests to validate the implementation: \n",
    "\n",
    "    1) Consider an scenario with no heating sources and constant collision frequency. In that case, it is simple to compute the slope in loglog scale of the velocity drift. \n",
    "        1a) What would happen in you turn $Q^{\\alpha\\beta}_\\alpha$ on? \n",
    "    2) Assuming zero velocity drift, what would be the temperature evolution when the two fluids are different?     "
   ]
  },
  {
   "cell_type": "markdown",
   "metadata": {},
   "source": [
    "### 3b- Test the code waves models\n",
    "\n",
    "1) Consider waves studies (purely sonic, purely magnetic etc) and run cases strongly coupled to collisionless. Do we reach the single case scenarios? What happens in between? \n",
    "\n",
    "2) Consider Sod-shock tube test with two fluids width different initial conditions, and run cases strongly coupled to collisionless. Do we reach the single case scenarios? What happens in between? \n"
   ]
  },
  {
   "cell_type": "markdown",
   "metadata": {},
   "source": [
    "### 4- Static atmosphere. \n",
    "\n",
    "For waves studies, it is important to have a backgrond static stratified atmosphere. Find the closes analytical solution for two fluids (consider eventually ionization and recombination). Let it run until transients are relax. \n",
    "\n"
   ]
  },
  {
   "cell_type": "markdown",
   "metadata": {},
   "source": [
    "### 4b- waves. \n",
    "\n",
    "Alfven waves in the solar chromosphere comes with many fequencies and amplitudes. In the chromosphre, ion-neutral interaction can change dissipate and change the Poynting flux. Go from high frequencies (0.1Hz) to 5 minutes oscilations. This parameter range have been observed [Okamoto et al. 2011](https://iopscience.iop.org/article/10.1088/2041-8205/736/2/L24). How this energy propagates through the atmosphere? Do waves in 1D constant atmosphere, i.e., no gravity nor stratification. Put an initial wave and see how long it takes to dissipate for various frequencies due to the artificial diffusion. What other effects forces do you find? \n",
    "\n",
    "\n",
    "__bonus__ Add gravity and prepare a stratified atmosphere. Drive the 1D amtosphere with Alfven waves (changing the magnetic field at the boundaries). How does these wave propagate? "
   ]
  },
  {
   "attachments": {},
   "cell_type": "markdown",
   "metadata": {},
   "source": [
    "### 4c- Alfven waves\n",
    "Go from high frequencies (0.1Hz) to 5 minutes oscilations. This parameter range have been observed [Okamoto et al. 2011](https://iopscience.iop.org/article/10.1088/2041-8205/736/2/L24). How this energy propagates through the atmosphere? Do waves in 1D constant atmosphere, i.e., no gravity nor stratification. Put an initial wave and see how long it takes to dissipate for various frequencies due to the artificial diffusion. \n",
    "\n",
    "\n",
    "__bonus__ Add gravity and prepare a stratified atmosphere. Drive the 1D amtosphere with Alfven waves (changing the magnetic field at the boundaries). How does these wave propagate? "
   ]
  },
  {
   "cell_type": "markdown",
   "metadata": {},
   "source": []
  }
 ],
 "metadata": {
  "kernelspec": {
   "display_name": "Python 3",
   "language": "python",
   "name": "python3"
  },
  "language_info": {
   "codemirror_mode": {
    "name": "ipython",
    "version": 3
   },
   "file_extension": ".py",
   "mimetype": "text/x-python",
   "name": "python",
   "nbconvert_exporter": "python",
   "pygments_lexer": "ipython3",
   "version": "3.11.1"
  },
  "vscode": {
   "interpreter": {
    "hash": "73497e5817b89701aec14e9f4fe3ff99b284561b49bdd0ace85b5d9ebd1cc4e9"
   }
  }
 },
 "nbformat": 4,
 "nbformat_minor": 4
}
