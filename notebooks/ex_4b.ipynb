{
 "cells": [
  {
   "cell_type": "markdown",
   "metadata": {},
   "source": [
    "# Riemann scheme. "
   ]
  },
  {
   "cell_type": "markdown",
   "metadata": {},
   "source": [
    "Lets consider same setup as in [ex_3](https://github.com/AST-Course/AST5110/blob/main/notebooks/ex_3.ipynb) Burgers’ equation, i.e.,\n",
    "\n",
    "$$\\frac{\\partial u}{\\partial t} + u \\frac{\\partial u}{\\partial x} = 0   \\tag{1}$$ \n",
    "\n",
    "for the domain $x \\in (x_0, x_f)$ with $x_0 = −1.4$, $x_f = 2.0$ with initial condition:\n",
    "\n",
    "$$u(x,t=0) = A\\left[\\tanh\\left(\\frac{x+x_c}{W}\\right)-\\tanh\\left(\\frac{x-x_c}{W}\\right)\\right]   \\tag{2}$$\n",
    "\n",
    "whereby $A = 0.02$ , $x_c = 0.70$, $W = 0.1$. Let the solution evolve until time $t_f = 100$. However, let's now implement a new time-step method. Find the conservative form of the equation and implement a Rieman solver [wiki:Rieman Solvers](https://github.com/AST-Course/AST5110/wiki/Riemann-solvers). \n",
    "\n",
    "Add this to your library and solve the previous simulation imposing the CFL condition. For this exercise, fill in `nm_lib/nm_ex/nm_lib_ex_4` the function `evolv_Rie_uadv_burgers`. "
   ]
  },
  {
   "attachments": {},
   "cell_type": "markdown",
   "metadata": {},
   "source": [
    "## 1 step\n",
    "\n",
    "Compute left and right of $u$, i.e., $u_L$ and $u_R$. Note that $u_R = u_{i+1}$ and $u_L = u_i$\n"
   ]
  },
  {
   "cell_type": "markdown",
   "metadata": {},
   "source": [
    "## 2 step\n",
    "Rewrite the eq 1 in a conservative form to get the Flux. Compute from the left and right variable ($u_L$ and $u_R$) the corresponding flux, i.e., $F_L$ and $F_R$ using `Rie_flux` in `nm_lib/nm_lib_ex_4`\n"
   ]
  },
  {
   "cell_type": "markdown",
   "metadata": {},
   "source": [
    "## 3 step\n",
    "Compute the propagating speed. This will be the derivatie of the flux with respect to variable $u$ in absolute values and select the largest between the left and right shells ($v_a$) using `Rie_va` in `nm_lib/nm_lib_ex_4`. See the [wiki:Rieman Solvers](https://github.com/AST-Course/AST5110/wiki/Riemann-solvers) for details on the propagating speed derivation.\n"
   ]
  },
  {
   "cell_type": "markdown",
   "metadata": {},
   "source": [
    "## 4 step\n",
    "Compute the interface fluxes (Rusanov) using `Rie_interface_flux` in `nm_lib/nm_lib_ex_4`.\n",
    "\n",
    "$F^*_{i+1/2}=\\frac{F_R+F_L}{2} - \\frac{v_a}{2} (U_R -U_L)$\n",
    "\n",
    "Note that $F^*_{i+1/2}$ is half grid shifted"
   ]
  },
  {
   "cell_type": "markdown",
   "metadata": {},
   "source": [
    "## 5 step\n",
    "Advance in time $u^{n+1}=u^n - \\frac{dt}{dx}\\times (F^*_{i+1/2}-F^*_{i-1/2})$ using  using `evolv_Rie_uadv_burgers` in `nm_lib/nm_lib_ex_4`. \n",
    "\n",
    "What is dt taking into account the phase speed ($v_a$)? \n"
   ]
  },
  {
   "cell_type": "markdown",
   "metadata": {},
   "source": [
    "Is this method less or more diffusive than Lax method? Find the analytical solution and compare. Where and when is better or worse than the Lax method? "
   ]
  },
  {
   "attachments": {},
   "cell_type": "markdown",
   "metadata": {},
   "source": [
    "The different approximations of Rieman solvers uses different ways to estimate $F^*$ and phase velocity ($v_a$). Otherwise they do the same steps. "
   ]
  },
  {
   "cell_type": "markdown",
   "metadata": {},
   "source": []
  }
 ],
 "metadata": {
  "kernelspec": {
   "display_name": "jms_ast5110_course_solution",
   "language": "python",
   "name": "python3"
  },
  "language_info": {
   "codemirror_mode": {
    "name": "ipython",
    "version": 3
   },
   "file_extension": ".py",
   "mimetype": "text/x-python",
   "name": "python",
   "nbconvert_exporter": "python",
   "pygments_lexer": "ipython3",
   "version": "3.12.8"
  }
 },
 "nbformat": 4,
 "nbformat_minor": 4
}
