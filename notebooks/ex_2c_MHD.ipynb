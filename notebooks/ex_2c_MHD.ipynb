{
 "cells": [
  {
   "cell_type": "markdown",
   "metadata": {},
   "source": [
    "# Are Magnetohydrodynamics (MHD) equations hyperbolic? (optional) "
   ]
  },
  {
   "cell_type": "markdown",
   "metadata": {},
   "source": [
    "In __Introduction to PDEs and classifications__, we have talked about three different types of PDEs. MHD equations are considered to be hyperbolic PDEs. However, is it completely true? \n",
    "\n",
    "\n",
    "Below is the conservative form of the MHD equations,  written as first-order partial differential equations (which somewhat resemble the scalar wave equation discussed before), \n",
    "$$\n",
    " \\frac{\\partial \\mathbf{U}}{\\partial t}+ \\nabla\\cdot\\mathcal{F}(\\mathbf{U})=\\mathbf{S}, \\tag{1}\n",
    "$$\n",
    "where $\\mathbf{U}$ includes all the (conservative) variables, the tensor $\\mathcal{F}$ includes all the flux terms, and $\\mathbf{S}$ includes all the source terms (e.g. gravity), but here we have $\\mathbf{S}=0$.\n",
    "Specifically, for the ideal MHD equations, we have \n",
    "$$\n",
    "\\mathbf{U}  =  \\left(\n",
    "\\begin{array}{cc}\n",
    "\\varrho  \\\\\n",
    "\\varrho \\mathbf{V}\\\\\n",
    "E \\\\\n",
    "\\mathbf{B}\n",
    "\\end{array}     \\right),  ~\\text{and}~ \n",
    " \\mathcal{F}(\\mathbf{U}) =\n",
    " \\left(\n",
    "\\begin{array}{cc}\n",
    "\\varrho\\mathbf{V} \\\\\n",
    "\\varrho\\mathbf{V}\\otimes\\mathbf{V}+P\\mathbf{I}-\\mathbf{B} \\otimes\\mathbf{B}\\\\\n",
    "(E+P)\\mathbf{V}-\\mathbf{B}(\\mathbf{V}\\cdot\\mathbf{B}) \\\\\n",
    "\\mathbf{V}\\otimes\\mathbf{B}-\\mathbf{B}\\otimes\\mathbf{V}\n",
    "\\end{array}     \\right), \\tag{2}\n",
    "$$\n",
    "where the total energy $E=\\varrho e + \\frac{1}{2}\\varrho\\mathbf{V}^2+\\frac{1}{2}\\mathbf{B}^2$ includes internal energy, kinetic energy, and magnetic energy, and the total pressure $P=p+\\frac{1}{2}\\mathbf{B}^2$ includes plasma pressure and magnetic pressure. In addition, the divergence constraint needs to be satisfied for the magetic field, i.e. $\\nabla\\cdot B =0$.\n",
    "\n",
    "To determine if a partial differential equation is hyperbolic, the discriminant is calculated for the linear second-order partial differential equation. Here, the MHD equations are written as first-order equations, and thus the characteristics can be used.\n",
    "\n",
    "The Jacobian matrix of the one-dimensional equations has __7__ non-zero eigen values, i.e., $V_n$, $V_n\\pm S_{\\text{fast}}$, $V_n\\pm S_{\\text{slow}}$, and $V_n\\pm S_{\\text{Alfv\\'en}}$, respectively corresponding to one entropy wave, two fast magnetoacoustic waves, two slow magnetoacoustic waves and two Alfvén waves. However, the three-dimensional MHD equations are a combination of eight PDEs.\n",
    "\n",
    "When numerically solving MHD equations, the 3D formulation cannot be directly solved. Typically, MHD equations are solved in a dimension-by-dimension manner. Without going into details, the process includes solving various quasi-1D MHD equations. Assume now we solve the equations in the $x$-direction, we have \n",
    "$$\n",
    "\\mathbf{U}  =  \\left(\n",
    "\\begin{array}{cc}\n",
    "\\varrho  \\\\\n",
    "\\varrho u\\\\\n",
    "\\varrho v\\\\\n",
    "\\varrho w\\\\\n",
    "E \\\\ \n",
    "B_x \\\\\n",
    "B_y \\\\\n",
    "B_z \n",
    "\\end{array}     \\right), \n",
    "\\quad \\mathbf{F}(\\mathbf{U}) =\n",
    " \\left(\n",
    "\\begin{array}{cc}\n",
    "\\varrho u \\\\\n",
    "\\varrho u^2+P-B_x B_x\\\\\n",
    "\\varrho uv -B_x B_y\\\\\n",
    "\\varrho uw -B_x B_z\\\\\n",
    "(E+P)u-B_x(\\mathbf{V}\\cdot\\mathbf{B}) \\\\\n",
    "0 \\\\\n",
    "uB_y - B_xv \\\\\n",
    "uB_z - B_xw \\\\\n",
    "\\end{array}     \\right),  ~\\text{and}~ \n",
    "\\frac{\\partial B_x}{\\partial x}=0.\n",
    "$$\n",
    "where the last formula is the divergence constraint in 1D.\n",
    "\n",
    "__Q1__: Are Eq.(2) or (3) fully hyperbolic? __Why__? What type(s) of equation(s) the non-hyperbolic PDE(s) may be?\n",
    "\n",
    "__Q2__: Can you change the equations (a bit) to make it fully hyperbolic? Hint: you may try to add or remove what you think is \"useful/uesless\"."
   ]
  }
 ],
 "metadata": {
  "language_info": {
   "name": "python"
  }
 },
 "nbformat": 4,
 "nbformat_minor": 2
}
