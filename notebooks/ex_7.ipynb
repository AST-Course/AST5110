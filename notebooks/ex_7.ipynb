{
 "cells": [
  {
   "cell_type": "markdown",
   "metadata": {},
   "source": [
    "# Non-conservative and conservative forms of the Navier-Stokes (NS) equations (Optional)"
   ]
  },
  {
   "cell_type": "markdown",
   "metadata": {},
   "source": [
    "The NS equations are important partial differential equations for various physical problems. In astrophysics, the NS equatinos can be used to describe the dynamics of: stellar atmospheres, accretion disks, inerstellar medium, etc. While being well-known, solving the NS equations is not a trivial task. In this exercise, you may need knowledge from [Introduction-to-PDEs-and-classifications](https://github.com/AST-Course/AST5110/wiki/Introduction-to-PDEs-and-classifications), and [Conservative](https://github.com/AST-Course/AST5110/wiki/Conservative). Understanding the NS equations is also essential for understanding Riemann solvers, and why do we need more stable time integration methods.\n",
    "\n",
    "The compressible NS equations describe mass, momentum, and energy conservation using the continuum __fluid__ assumption, in which case particle behaviours are omiited. Note that incompressible ND equations may have very different mathematical properties, and thus the correspondingly numerical methods can be rather different.\n",
    "\n",
    "### **Non-Conservative Form of the Navier-Stokes Equations**\n",
    "\n",
    "#### 1. **Continuity Equation:**\n",
    "$$\n",
    "\\frac{\\partial \\rho}{\\partial t} + \\nabla \\cdot (\\rho \\mathbf{u}) = 0\n",
    "$$\n",
    "- $\\rho$: fluid density \n",
    "- $\\mathbf{u}=(u, v, w)^T$: velocity\n",
    "\n",
    "#### 2. **Momentum Equation:**\n",
    "$$\n",
    "\\frac{\\partial \\mathbf{u}}{\\partial t} + (\\mathbf{u} \\cdot \\nabla) \\mathbf{u} = -\\frac{1}{\\rho} \\nabla p + \\nu \\nabla^2 \\mathbf{u} + \\mathbf{f}\n",
    "$$\n",
    "- $\\frac{\\partial \\mathbf{u}}{\\partial t}$: unsteady term (rate of change of velocity over time)\n",
    "- $(\\mathbf{u} \\cdot \\nabla) \\mathbf{u}$: convective term\n",
    "- $-\\frac{1}{\\rho} \\nabla p$: pressure gradient term\n",
    "- $\\nu \\nabla^2 \\mathbf{u}$: kinematic viscosity $\\nu = \\frac{\\mu}{\\rho}$, where $\\mu$ is dynamic viscosity \n",
    "- $\\mathbf{f}$: body force per unit volume, e.g., gravity\n",
    "\n",
    "#### 3. **Energy Equation:**\n",
    "$$\n",
    "\\rho \\frac{\\partial e}{\\partial t} + \\rho (\\mathbf{u} \\cdot \\nabla) e = -p (\\nabla \\cdot \\mathbf{u}) + \\Phi + \\nabla \\cdot (k \\nabla T)\n",
    "$$ \n",
    "- $e$: specific internal energy (energy per unit mass)\n",
    "- $T$: temperature\n",
    "- $k$: thermal conductivity\n",
    "- $\\Phi$: viscous dissipation term\n",
    "$$\n",
    "\\Phi = \\mu \\left[ \\nabla \\mathbf{u} \\cdot (\\nabla \\mathbf{u} + (\\nabla \\mathbf{u})^T) - \\frac{2}{3} (\\nabla \\cdot \\mathbf{u})^2 \\right]\n",
    "$$\n",
    "\n",
    "It is necessary to have the equation of state (EoS) to close the equtions. For ideal gas, the EoS can be written as $\\rho e=\\frac{p}{\\gamma-1}$, where $\\gamma$ is the ratio of specifc heat, or adiabatic index. When density and pressure are both known, the temperature can be given according to $p=\\rho RT$, where $R$ is the specific gas constant."
   ]
  },
  {
   "cell_type": "markdown",
   "metadata": {},
   "source": [
    "### Tasks:\n",
    "\n",
    "As has been introduced, partial differential equations may need to be solved in their conservative forms, to improve numerical stability. For example, we have rewritten  the Burger's equation in its non-conservative and conservative forms $\\frac{\\partial u}{\\partial t} = u\\frac{\\partial u}{\\partial x}$ and $\\frac{\\partial u}{\\partial t} = \\frac{\\partial (u^2/2)}{\\partial x}$, thus being able to use different numerical methods to solve the same equation. \n",
    "\n",
    "__Task__ 1: Please try to write the NS equtions to the conservative form.\n",
    "\n",
    "In [Examples-of-hyperbolic-numerical-schemes-book](https://github.com/AST-Course/AST5110/wiki/Examples-of-hyperbolic-numerical-schemes-book), we mention that a numerical method may be stable for one type of partial differential equations, but may be unstable for anther type of equations. Therefore, it is important to know what type of equations they are. Sometimes a system of equations may also include more than one type of equations. For example, we have mentioned two different Burger's equations:\n",
    "\n",
    "$$\n",
    "\\frac{\\partial u}{\\partial t} = u\\frac{\\partial u}{\\partial x} \\quad \\text{and} \\quad \\frac{\\partial u}{\\partial t} = \\nu \\frac{\\partial^2 u}{\\partial x^2}\n",
    "$$\n",
    "\n",
    "They may be combined, becoming \n",
    "\n",
    "$$\n",
    "\\frac{\\partial u}{\\partial t} = u\\frac{\\partial u}{\\partial x}+ \\nu \\frac{\\partial^2 u}{\\partial x^2}\n",
    "$$\n",
    "\n",
    "which is not simply a hyperbolic equation or parabolic equation.\n",
    "\n",
    "\n",
    "__Task__ 2: Try to explain what type(s) of equations the NS equatinos may be.\n",
    "\n",
    "__Task__ 3: In case you manage to figure out which terms in the NS equations are hyperbolic/parabolic/elliptic terms (if there are such terms in the equations), try to explain what numerical methods we have introduced could be used for solving these terms. Try to explain the advantages and disadvantages."
   ]
  }
 ],
 "metadata": {
  "language_info": {
   "name": "python"
  }
 },
 "nbformat": 4,
 "nbformat_minor": 2
}
