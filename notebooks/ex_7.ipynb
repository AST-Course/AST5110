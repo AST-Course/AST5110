{
 "cells": [
  {
   "cell_type": "markdown",
   "metadata": {},
   "source": [
    "# Non-conservative and conservative forms of the Navier-Stokes (NS) equations (Optional)"
   ]
  },
  {
   "cell_type": "markdown",
   "metadata": {},
   "source": [
    "The NS equations are important partial differential equations for various physical problems. In astrophysics, the NS equatinos can be used to describe the dynamics of: stellar atmospheres, accretion disks, inerstellar medium, etc. While being well-known, solving the NS equations is not a trivial task. In this exercise, you may need knowledge from [Introduction-to-PDEs-and-classifications](https://github.com/AST-Course/AST5110/wiki/Introduction-to-PDEs-and-classifications), and [Conservative](https://github.com/AST-Course/AST5110/wiki/Conservative). Understanding the NS equations is also essential for understanding Riemann solvers for hydrodynamics, and magnetohydrodynamics.\n",
    "\n",
    "The equations describe mass, momentum, and energy conservation in a compressible fluid.\n",
    "\n",
    "### **Non-Conservative Form of the Navier-Stokes Equations**\n",
    "\n",
    "#### 1. **Continuity Equation:**\n",
    "$$\n",
    "\\frac{\\partial \\rho}{\\partial t} + \\nabla \\cdot (\\rho \\mathbf{u}) = 0\n",
    "$$\n",
    "Where $\\rho$ is the fluid density and $\\mathbf{u}=(u, v, w)^T$ is the velocity.\n",
    "\n",
    "#### 2. **Momentum Equation:**\n",
    "$$\n",
    "\\frac{\\partial \\mathbf{u}}{\\partial t} + (\\mathbf{u} \\cdot \\nabla) \\mathbf{u} = -\\frac{1}{\\rho} \\nabla p + \\nu \\nabla^2 \\mathbf{u} + \\mathbf{f}\n",
    "$$\n",
    "- $\\frac{\\partial \\mathbf{u}}{\\partial t}$: Unsteady term (rate of change of velocity over time).\n",
    "- $(\\mathbf{u} \\cdot \\nabla) \\mathbf{u}$: Convective term.\n",
    "- $-\\frac{1}{\\rho} \\nabla p$: Pressure gradient term.\n",
    "- $\\nu \\nabla^2 \\mathbf{u}$: kinematic viscosity $\\nu = \\frac{\\mu}{\\rho}$, where $\\mu$ is dynamic viscosity .\n",
    "- $\\mathbf{f}$: Body force per unit volume, e.g., gravity.\n",
    "\n",
    "#### 3. **Energy Equation:**\n",
    "$$\n",
    "\\rho \\frac{\\partial e}{\\partial t} + \\rho (\\mathbf{u} \\cdot \\nabla) e = -p (\\nabla \\cdot \\mathbf{u}) + \\Phi + \\nabla \\cdot (k \\nabla T)\n",
    "$$\n",
    "Where: \n",
    "- $e$: Specific internal energy (energy per unit mass). \n",
    "- $T$: Temperature.\n",
    "- $k$: Thermal conductivity.\n",
    "- $\\Phi$: Viscous dissipation term:\n",
    "$$\n",
    "\\Phi = \\mu \\left[ \\nabla \\mathbf{u} \\cdot (\\nabla \\mathbf{u} + (\\nabla \\mathbf{u})^T) - \\frac{2}{3} (\\nabla \\cdot \\mathbf{u})^2 \\right]\n",
    "$$\n",
    "\n",
    "It is necessary to have the equation of state (EoS) to close the equtions. For ideal gas, the EoS can be written as $\\rho e=\\frac{p}{\\gamma-1}$, where $\\gamma$ is the ratio of specifc heat, or adiabatic index. When density and pressure are both known, the temperature can be given according to $p=\\rho RT$, where $R$ is the specific gas constant.\n",
    "\n",
    "Practice 1: Please try to write the NS equtions to the conservative form. Hint: compare the difference between $\\frac{\\partial u}{\\partial t} = u\\frac{\\partial u}{\\partial x} = 0$ and $\\frac{\\partial u}{\\partial t} = \\frac{\\partial (u^2/2)}{\\partial x} = 0$."
   ]
  }
 ],
 "metadata": {
  "language_info": {
   "name": "python"
  }
 },
 "nbformat": 4,
 "nbformat_minor": 2
}
