{
 "cells": [
  {
   "cell_type": "markdown",
   "metadata": {},
   "source": [
    "# Non-conservative and conservative forms of the Navier-Stokes (NS) equations (Optional)"
   ]
  },
  {
   "cell_type": "markdown",
   "metadata": {},
   "source": [
    "The NS equations are important partial differential equations for various physical problems. In astrophysics, the NS equatinos can be used to describe the dynamics of: stellar atmospheres, accretion disks, inerstellar medium, etc. While being well-known, solving the NS equations is not a trivial task. In [Examples-of-hyperbolic-numerical-schemes-book](https://github.com/AST-Course/AST5110/wiki/Examples-of-hyperbolic-numerical-schemes-book), we mention that a numerical method may be stable for one type of partial differential equations, but may be unstable for anther type of equations. Therefore, it is important to know what type of equations they are. Sometimes a system of equations may also include more than one type of equations (or terms). For example, we have mentioned advective and diffusive Burger's equations:\n",
    "\n",
    "$$\n",
    "\\frac{\\partial u}{\\partial t} = u\\frac{\\partial u}{\\partial x} \\quad \\text{and} \\quad \\frac{\\partial u}{\\partial t} = \\nu \\frac{\\partial^2 u}{\\partial x^2}\n",
    "$$\n",
    "\n",
    "They may be combined, becoming \n",
    "\n",
    "$$\n",
    "\\frac{\\partial u}{\\partial t} = u\\frac{\\partial u}{\\partial x}+ \\nu \\frac{\\partial^2 u}{\\partial x^2}\n",
    "$$\n",
    "\n",
    "which is not simply a hyperbolic equation or a parabolic equation. \n",
    "\n",
    "In this exercise, you may need knowledge from [Introduction-to-PDEs-and-classifications](https://github.com/AST-Course/AST5110/wiki/Introduction-to-PDEs-and-classifications), and [Conservative](https://github.com/AST-Course/AST5110/wiki/Conservative). Understanding the NS equations is also essential for understanding Riemann solvers, and why do we need more stable time integration methods.\n",
    "\n",
    "The compressible NS equations below describe the evolution of density, velocity, and internal energy, using the continuum __fluid__ assumption, in which case particle behaviours are omitted.\n",
    "\n",
    "#### 1. **The mass continuity equation:**\n",
    "$$\n",
    "\\frac{\\partial \\rho}{\\partial t} + \\nabla \\cdot (\\rho \\mathbf{u}) = 0\n",
    "$$\n",
    "- $\\rho$: fluid density \n",
    "- $\\mathbf{u}=(u, v, w)^T$: velocity\n",
    "\n",
    "Note: for incompressible fluid, e.g., water in room temperature, density is constant and thus the equation becomes $\\nabla \\cdot \\mathbf{u} = 0$. While the other equations can be simplified correspondingly, this zero divergence constraint in fact brings challenges to designing numerical methods. In this exercise, the density is not assumed to be constant, meaning that the fluid is __compressible__.\n",
    "\n",
    "#### 2. **The equation of motion:**\n",
    "$$\n",
    "\\rho\\frac{\\partial \\mathbf{u}}{\\partial t} + \\rho\\mathbf{u}(\\nabla\\cdot\\mathbf{u} )  = - \\nabla p +  \\nabla\\cdot\\sigma+ \\mathbf{f}\n",
    "$$\n",
    "\n",
    "- $(\\mathbf{u} \\cdot \\nabla) \\mathbf{u}$: advective term \n",
    "- $\\mu$: dynamic viscosity, which is a constant here (the NS equations become the Euler equations when $\\mu=0$, not further discussed)\n",
    "- $\\mathbf{f}$: body force per unit volume, e.g., gravity\n",
    "- $\\mathbf{\\sigma}$: viscous stress tensor, where $\\sigma_{ij}=\\mu\\left(\\frac{\\partial u_i}{\\partial x_j}+\\frac{\\partial u_j}{\\partial x_i}-\\frac{2}{3}\\frac{\\partial u_k}{\\partial x_k}\\delta_{ij}\\right)$, and $\\mu$ is (constant) dynamic viscosity \n",
    "\n",
    "#### 3. **The energy Equation:**\n",
    "$$\n",
    "\\rho \\frac{\\partial e}{\\partial t} + \\rho\\mathbf{u}\\nabla \\cdot e = -p(\\nabla \\mathbf{u}) + \\sigma(\\nabla\\mathbf{u}) + \\nabla \\cdot (k \\nabla T)\n",
    "$$ \n",
    "\n",
    "- $e$: specific internal energy (energy per unit mass)\n",
    "- $p$: pressure per unit volume\n",
    "- $T$: temperature\n",
    "- $k$: thermal conductivity\n",
    "\n",
    "It is necessary to have the equation of state (EoS) to close the equtions. For ideal gas, the EoS can be written as $\\rho e=\\frac{p}{\\gamma-1}$, where $\\gamma$ is the ratio of specifc heat, or adiabatic index.  $\\gamma$  is not necessarily a constant but frequently can be constant, and here we assume it is a constant for simplicity. When density and pressure are both known, the temperature can be given according to $p=\\rho RT$, where $R$ is the specific gas constant."
   ]
  },
  {
   "cell_type": "markdown",
   "metadata": {},
   "source": [
    "----------------------------------------------"
   ]
  },
  {
   "cell_type": "markdown",
   "metadata": {},
   "source": [
    "\n",
    "However, the equations given above are not conservative.\n",
    "\n",
    "### Tasks:\n",
    "\n",
    "As has been introduced, partial differential equations may need to be solved in their conservative forms, to improve numerical stability. For example, we have rewritten  the Burger's equation in its non-conservative and conservative forms \n",
    "\n",
    "$$\n",
    "\\frac{\\partial u}{\\partial t} = u\\frac{\\partial u}{\\partial x} \\quad \\text{and} \\quad \\frac{\\partial u}{\\partial t} = \\frac{\\partial (u^2/2)}{\\partial x}\n",
    "$$\n",
    "\n",
    " thus being able to use different numerical methods to solve the same equation. \n",
    "\n",
    "__Task__ 1: Please try to write the NS equtions to the conservative form. Note that not all the terms can be written as a conservative form.\n",
    "\n",
    "\n",
    "\n",
    "\n",
    "__Task__ 2: Try to explain what type(s) of equations the NS equatinos may be.\n",
    "\n",
    "__Task__ 3: In case you manage to figure out which terms in the NS equations are hyperbolic/parabolic/elliptic terms (if there are such terms in the equations), try to explain we numerical methods we have introduced could be used for solving these terms. Try to explain the advantages and disadvantages."
   ]
  }
 ],
 "metadata": {
  "language_info": {
   "name": "python"
  }
 },
 "nbformat": 4,
 "nbformat_minor": 2
}
