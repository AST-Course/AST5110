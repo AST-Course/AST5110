{
 "cells": [
  {
   "attachments": {},
   "cell_type": "markdown",
   "metadata": {},
   "source": [
    "# A calculation of the order of convergence when the limit value is unknown"
   ]
  },
  {
   "attachments": {},
   "cell_type": "markdown",
   "metadata": {},
   "source": [
    "## _This problem is an optional extension of the previous exercise sheets_"
   ]
  },
  {
   "cell_type": "markdown",
   "metadata": {},
   "source": [
    "Assume we have determined numerically an approximate value $f_{\\Delta x}$ of a function (for example, of a derivative) using a numerical mesh with grid cells $\\Delta x$. We say that a numerical approximation converges toward a limit value $f_{lim}$ with $m$-order approximation, if for all $\\Delta x$ which are sufficiently small we can write to leading\n",
    "order"
   ]
  },
  {
   "attachments": {},
   "cell_type": "markdown",
   "metadata": {},
   "source": [
    "$$f_{\\Delta x} = f_{lim} + A(\\Delta x)^m  \\tag{1}$$"
   ]
  },
  {
   "cell_type": "markdown",
   "metadata": {},
   "source": [
    "with $A$ a constant. If the global domain in $x$ has length $L$ and has been divided\n",
    "into $N$ intervals (so that  $\\Delta x = L/N$), then we have:"
   ]
  },
  {
   "attachments": {},
   "cell_type": "markdown",
   "metadata": {},
   "source": [
    "$$f_N = f_{lim} + A\\left(\\frac{L}{N}\\right)^m  \\tag{2}$$"
   ]
  },
  {
   "cell_type": "markdown",
   "metadata": {},
   "source": [
    "From there it is straightforward to obtain:"
   ]
  },
  {
   "attachments": {},
   "cell_type": "markdown",
   "metadata": {},
   "source": [
    "$$\\frac{f_{4N}-f_{2N}}{f_{2N}-f_{N}} = \\frac{4^{m}-2^{m}}{2^{m}-1} = 2^{m}  \\tag{3}$$"
   ]
  },
  {
   "cell_type": "markdown",
   "metadata": {},
   "source": [
    "or, in other words,"
   ]
  },
  {
   "attachments": {},
   "cell_type": "markdown",
   "metadata": {},
   "source": [
    "$$m = \\log\\left(\\frac{f_{4N}-f_{2N}}{f_{2N}-f_{N}}\\right)/\\log2  \\tag{4}$$"
   ]
  },
  {
   "cell_type": "markdown",
   "metadata": {},
   "source": [
    "with log the natural logarithm. Thus, if we obtain a numerical value for a function at a given point with increasing order of approximation using $N$, $2N$ and $4N$ intervals in a given domain, we can calculate the order $m$ of the approximation using Eq. (4) without having to know in advance the exact analytical limit value. Test this method with `np.deriv_cent` and `np.deriv_4tho` and fill in `nm.order_conv`. "
   ]
  }
 ],
 "metadata": {
  "kernelspec": {
   "display_name": "Python 3",
   "language": "python",
   "name": "python3"
  },
  "language_info": {
   "codemirror_mode": {
    "name": "ipython",
    "version": 3
   },
   "file_extension": ".py",
   "mimetype": "text/x-python",
   "name": "python",
   "nbconvert_exporter": "python",
   "pygments_lexer": "ipython3",
   "version": "3.8.5"
  }
 },
 "nbformat": 4,
 "nbformat_minor": 4
}
