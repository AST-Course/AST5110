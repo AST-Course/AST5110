{
 "cells": [
  {
   "attachments": {},
   "cell_type": "markdown",
   "metadata": {},
   "source": [
    "# Preparation of the first numerical solution of a space-time partial differential equation: Study of the advection equation"
   ]
  },
  {
   "cell_type": "markdown",
   "metadata": {},
   "source": [
    "We study the solutions of the equation"
   ]
  },
  {
   "attachments": {},
   "cell_type": "markdown",
   "metadata": {},
   "source": [
    "$$\\frac{\\partial u}{\\partial t} + a \\frac{\\partial u}{\\partial x} = 0  \\tag{1}$$"
   ]
  },
  {
   "cell_type": "markdown",
   "metadata": {},
   "source": [
    "with initial condition"
   ]
  },
  {
   "attachments": {},
   "cell_type": "markdown",
   "metadata": {},
   "source": [
    "$$u(x,t=0) = u_0(x)  \\tag{2}$$"
   ]
  },
  {
   "cell_type": "markdown",
   "metadata": {},
   "source": [
    "In the following, a will be called the advection speed."
   ]
  },
  {
   "attachments": {},
   "cell_type": "markdown",
   "metadata": {},
   "source": [
    "## 1 – Solution for constant advection speed."
   ]
  },
  {
   "cell_type": "markdown",
   "metadata": {},
   "source": [
    "Prove that, when $a=const$, the function $u(x, t) = u_0(x − at)$ is an exact solution of equation (1). Interpret this fact as a rigid motion of the solution with velocity $a$. Consider an arbitrary point, $x_0$, at time $t = 0$. Imagine that, starting at $x_0$, we follow at all later times the points in which the function equals $u(x, t) = u(x_0, 0)$. Which trajectory shall we obtain in the plane $t - x$ (i.e., in space-time)?"
   ]
  },
  {
   "attachments": {},
   "cell_type": "markdown",
   "metadata": {},
   "source": [
    "## 2 – Solution for non-constant advection speed of the type $a(x, t)$"
   ]
  },
  {
   "cell_type": "markdown",
   "metadata": {},
   "source": [
    "Consider now a non-constant advection velocity of the form $a(x, t)$ and the trajectories, $x_p(t)$, in space-time of points that move with velocity $a$, i.e.:"
   ]
  },
  {
   "cell_type": "markdown",
   "metadata": {},
   "source": [
    "$$\n",
    "\\begin{cases}\n",
    "    \\frac{d x_p}{d t} = a[x_p(t),t],  \\\\\n",
    "    x(t=0) = x_0 \n",
    "\\end{cases}\n",
    "$$"
   ]
  },
  {
   "cell_type": "markdown",
   "metadata": {},
   "source": [
    "Prove that the solution to eq. (1) is constant along these trajectories. If a is really non-uniform, what does the foregoing imply for the shape of the function $u$ as time progresses?"
   ]
  },
  {
   "attachments": {},
   "cell_type": "markdown",
   "metadata": {},
   "source": [
    "## 3 – The acceleration of a fluid and Burgers’ equation,"
   ]
  },
  {
   "attachments": {},
   "cell_type": "markdown",
   "metadata": {},
   "source": [
    "$$\\frac{\\partial u}{\\partial t} + u \\frac{\\partial u}{\\partial x} = 0  \\tag{3}$$"
   ]
  },
  {
   "attachments": {},
   "cell_type": "markdown",
   "metadata": {},
   "source": [
    "**Note:**\n",
    "    to be precise, the complete Burgers’ equation ($*$) has an additional second-order term that acts like a viscosity. Eq. (3) is called the inviscid Burgers’ equation.\n"
   ]
  },
  {
   "cell_type": "markdown",
   "metadata": {},
   "source": [
    "Assume that the velocity of a certain fluid at point $x$ and time $t$ is given by the function $u(x, t)$ that solves Eq. (3). If so, an arbitrary fluid element must follow the trajectory $x_L(t)$ that satisfies the following condition:"
   ]
  },
  {
   "attachments": {},
   "cell_type": "markdown",
   "metadata": {},
   "source": [
    "$$\\frac{d x_L}{dt} = u[x_L(t),t]  \\tag{4}$$"
   ]
  },
  {
   "cell_type": "markdown",
   "metadata": {},
   "source": [
    "Calculate the acceleration of that fluid element by taking the derivative with respect to $t$ of both sides of equation (4) and using again eq (4) in the result."
   ]
  },
  {
   "cell_type": "markdown",
   "metadata": {},
   "source": [
    "1. Compare what you obtain with the left-hand side of Burgers’ equation.\n",
    "2.  If a velocity field $u(x, t)$ satisfies Burgers’ equation, what will be the acceleration of the individual fluid elements?\n",
    "3. Considering the trajectory $x_L(t) = x_0 + u_0 t$, where $u_0 = u(t = 0, x_0)$, convince yourself, on the basis of the foregoing results, that the solution of Burgers’ equation must be constant along those points."
   ]
  },
  {
   "attachments": {},
   "cell_type": "markdown",
   "metadata": {},
   "source": [
    "**Note:** \n",
    "    ($*$) The name of the equation refers to the Dutch mathematician Jan Martinus Burgers (1895-1981)."
   ]
  }
 ],
 "metadata": {
  "kernelspec": {
   "display_name": "Python 3",
   "language": "python",
   "name": "python3"
  },
  "language_info": {
   "codemirror_mode": {
    "name": "ipython",
    "version": 3
   },
   "file_extension": ".py",
   "mimetype": "text/x-python",
   "name": "python",
   "nbconvert_exporter": "python",
   "pygments_lexer": "ipython3",
   "version": "3.8.5"
  }
 },
 "nbformat": 4,
 "nbformat_minor": 4
}
