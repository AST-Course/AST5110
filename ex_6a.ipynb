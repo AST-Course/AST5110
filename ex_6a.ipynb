{
 "cells": [
  {
   "attachments": {},
   "cell_type": "markdown",
   "metadata": {},
   "source": [
    "# Operator splitting "
   ]
  },
  {
   "attachments": {},
   "cell_type": "markdown",
   "metadata": {},
   "source": [
    "## 1- OS precission\n",
    "\n",
    "Solve the following Burgers' equation: \n",
    "\n",
    "$$\\frac{\\partial u}{\\partial t} = - a \\frac{\\partial u}{\\partial x} - b \\frac{\\partial u}{\\partial x}   \\tag{1}$$\n",
    "\n",
    "following exersize [2a](https://gitlab.com/ast5110_course/ast5110/-/blob/master/ex_2b.ipynb). where $x[x_0, x_f]$ with $x_0 = −2.6$, $x_f = 2.6$, $a=-0.7$ and $b=-0.3$, periodic boundary conditions and with initial condition:\n",
    "\n",
    "$$u(x,t=t_0) = \\cos^2 \\left(\\frac{6 \\pi x}{5} \\right) / \\cosh(5x^2)  \\tag{2}$$\n",
    "\n",
    "Solve the evolution for the following four different approaches: \n",
    "\n",
    "- 1 With additive OS.  \n",
    "\n",
    "- 2 With Lie-Trotter OS. \n",
    "\n",
    "- 3 With Strang OS.\n",
    "\n",
    "- 4 Without an operator splitting and single time-step method but add the to terms: \n",
    "\n",
    "$$\\frac{\\partial u}{\\partial t} = - (a+b) \\frac{\\partial u}{\\partial x}$$\n",
    "\n",
    "for nump=256 and 100 steps.\n",
    "\n",
    "_Suggestion_: use Lax method scheme for all cases with `deriv_cent`. Make sure the boundaries are properly selected.\n",
    "\n",
    "Fill in the function `osp_LL_Add`, `osp_LL_Lie` and `osp_LL_Strang`.\n",
    "\n",
    "Start with cfl_cut = 0.4 and increase up to 0.9.  \n",
    "\n",
    "Which OS shemes are stable? Which one is more diffusive? Why? "
   ]
  },
  {
   "attachments": {},
   "cell_type": "markdown",
   "metadata": {},
   "source": [
    "## 2- When does not work? \n",
    "\n",
    "Use OS-Strang from the previous exersice and try to apply a predictor-corretor explicit method. \n",
    "To facilitate this excersize, nm_lib already includes the predictor-corretor Hyman method which is included Bifrost (`hyman`). Fill in the function `osp_Lax_LH_Strang`. Use same setup as the previous exercise but with $nump=512$, 500 steps and cfl_cut=0.8. \n",
    "\n",
    "What do you notice? \n",
    "\n",
    "__Optional__: Apply the Hyman predictor-corretor explicit method into the Burgers equation and check if the following is true: \n",
    "\n",
    "$$u^{n+1} = F\\, u^{n}\\Delta t \\approx G\\, u^{n}\\Delta t+H\\, u^{n}\\Delta t$$\n"
   ]
  }
 ],
 "metadata": {
  "kernelspec": {
   "display_name": "Python 3",
   "language": "python",
   "name": "python3"
  },
  "language_info": {
   "codemirror_mode": {
    "name": "ipython",
    "version": 3
   },
   "file_extension": ".py",
   "mimetype": "text/x-python",
   "name": "python",
   "nbconvert_exporter": "python",
   "pygments_lexer": "ipython3",
   "version": "3.8.5"
  }
 },
 "nbformat": 4,
 "nbformat_minor": 4
}
