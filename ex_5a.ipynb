{
 "cells": [
  {
   "attachments": {},
   "cell_type": "markdown",
   "metadata": {},
   "source": [
    "# Space-time partial differential equation: Study of the diffusive equation (implicit methods)"
   ]
  },
  {
   "attachments": {},
   "cell_type": "markdown",
   "metadata": {},
   "source": [
    "Lets consider now the viscouse term in the Burguer's equation: \n",
    "\n",
    "$$\\frac{\\partial u}{\\partial t} = \\nu \\frac{\\partial^2 u}{\\partial x^2}, \\tag{1}$$"
   ]
  },
  {
   "attachments": {},
   "cell_type": "markdown",
   "metadata": {},
   "source": [
    "## 1- Apply an explicit method. \n",
    "\n",
    "What would be the CFL condition for viscouse term where $\\nu$ is either a constant or an array that depends on $x$.  We would like to solve equation (1) numerically for $x  [x_0, x_f]$ with $x_0 = −2.6$, $x_f = 2.6$, periodic boundary conditions and with initial condition:\n",
    "\n",
    "$$u(x,t=t_0) = A\\exp(-(x-x_0)^2/W^2)   \\tag{2}$$\n",
    "\n",
    "with $A=0.3$, $W=0.1$, and $x_0=0$. __Suggestion__: Apply first derivative upwind and second downwind. Apply Von Newman analysis. Its stable? What is the time-step dependence with $\\Delta x$? \n",
    "\n",
    "How many number of steps is needed to reach a t=1.8 for $nump=128$? And 256? "
   ]
  },
  {
   "attachments": {},
   "cell_type": "markdown",
   "metadata": {},
   "source": [
    "## 2- Implicit methods."
   ]
  },
  {
   "cell_type": "markdown",
   "metadata": {},
   "source": [
    "In the [wiki](https://gitlab.com/ast5110_course/ast5110/-/wikis/Implicit%20methods) we discribe some implicit or semi-explicit methods that allow to relax the CFL constraint on diffusive terms. Consider Newton-Rapson method and repeat the previous numerical experiment. For this, you will need to implement the following   \n",
    "\n",
    "\n",
    "$F_j = u^{n+1}_j - u^n_j - \\nu \\, (u^{n+1}_{j+1} - 2u^{n+1}_{j}+u^{n+1}_{j-1})\\frac{\\Delta t}{\\Delta x^2}$\n",
    "\n",
    "in `NR_f` and `step_diff_burgers` functions in `nm_lib`. \n",
    "\n",
    "And the Jacobian can be easily built. \n",
    "\n",
    "$J(j,k) = F_j'(u^{n+1}_k)$\n",
    "\n",
    "fill in `jacobian` function in `nm_lib`. Note that this matrix is linear with $u$. \n",
    "\n",
    "Test the model with [wiki](https://gitlab.com/ast5110_course/ast5110/-/wikis/Self%20similar%20solution%20for%20parabolic%20eq.) self-similar solutions. How long takes each time-step compare to the Lax-method? Use `time.time` library. Do it for nump=256, nt=30 and dt = 0.1. In order to test the simulation, use `curve_fit` from `scipy.optimize`. __hint__ consider to use a good initial guess (`p0`) in and `bnd_limits` to facilitate the fitting wiht `curve_fit`. What happens to the solution when increasing dt? How much can be improved limiting the tolerance? "
   ]
  },
  {
   "cell_type": "markdown",
   "metadata": {},
   "source": [
    "----------------------------------------------"
   ]
  },
  {
   "cell_type": "markdown",
   "metadata": {},
   "source": [
    "Lets consider a non-linear function where $\\nu$ depends on u. To keep it simple, solve: \n",
    "  \n",
    "$\\frac{\\partial u}{\\partial t} = u \\frac{\\partial^2 u}{\\partial x^2}$\n",
    "\n",
    "where $\\nu_0$ is a constant and the same initial conditions as the previous exercise (fill in `Newton_Raphson_u`, `jacobian_u` and `NR_f_u`. Consider an error limit of $10^{-4}$ and compare the previous exercise (with the same error limit). How many iterations needs now the method to converge to the right solution? Why? Increase `ncount` to 1000. "
   ]
  },
  {
   "attachments": {},
   "cell_type": "markdown",
   "metadata": {},
   "source": [
    "## 3- Semi-explicit methods (optional). \n",
    "\n",
    "__a)__ Super-time-stepping (STS) schemes works for parabolic terms. STS is an API method that performs a subset of \"unstable\" intermediate steps, but the sum of all the steps is stable. Visualize, how `taui_sts` varies with nu and $niter$. Compare the solution with the analytical one for the final STS steps and for intermediate STS steps. For the full STS steps, how improves the solution with $nu$? and $niter$? Is there a relation between these two parameters $nu$ and $niter$ with the error. For which niter and nu the method provides larger steps than an ordinary explicit. For this excercise, fill in `evol_sts`, and `taui_sts`. "
   ]
  }
 ],
 "metadata": {
  "kernelspec": {
   "display_name": "Python 3",
   "language": "python",
   "name": "python3"
  },
  "language_info": {
   "codemirror_mode": {
    "name": "ipython",
    "version": 3
   },
   "file_extension": ".py",
   "mimetype": "text/x-python",
   "name": "python",
   "nbconvert_exporter": "python",
   "pygments_lexer": "ipython3",
   "version": "3.8.5"
  }
 },
 "nbformat": 4,
 "nbformat_minor": 4
}
