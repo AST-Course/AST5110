{
 "cells": [
  {
   "cell_type": "markdown",
   "metadata": {},
   "source": [
    "1 – Numerical instability: violent development"
   ]
  },
  {
   "cell_type": "code",
   "execution_count": 11,
   "metadata": {},
   "outputs": [],
   "source": [
    "import sys \n",
    "import os   \n",
    "sys.path.append(os.getcwd() + '/..')\n",
    "import numpy as np\n",
    "import math\n",
    "import matplotlib.pyplot as plt \n",
    "import nm_lib as nm\n",
    "from typing import Type\n",
    "from matplotlib import animation\n",
    "import matplotlib\n",
    "matplotlib.use('TkAgg')\n",
    "\n",
    "# --- Values reused in other tasks of ex_3 ---\n",
    "x0 = -2.6 \n",
    "xf = 2.6\n",
    "pi = math.pi\n",
    "\n",
    "CFL = 0.98\n",
    "a = 1\n",
    "# ---------------------------\n",
    "\n",
    "def tfunc(xx):\n",
    "    return math.cos(6.0 * pi * xx / 5.0) * math.cos(6.0 * pi * xx / 5.0) /  math.cosh(5.0 * xx * xx)\n",
    "\n",
    "def discretisation(x0, xf, nump, dt_float: Type[float]):\n",
    "    nint = nump - 1\n",
    "    dh = dt_float((xf - x0) / nint)\n",
    "    xx = dt_float(np.arange(nump) * dh + x0) \n",
    "    xx_half = dt_float(np.arange(nump) * dh + x0 + dh * 0.5)\n",
    "    return nint, dh, xx, xx_half\n",
    "\n",
    "def exactU(xx, hh, nt, a, CFL, bnd_limits, bnd_type: str = 'wrap'):\n",
    "    if xx.size != hh.size:\n",
    "        return None\n",
    "    else:\n",
    "        t = np.zeros(nt)\n",
    "        unnt = np.zeros((xx.size, nt))   \n",
    "        for i in range(0, nt - 1):\n",
    "            dt = CFL * nm.cfl_adv_burger(a, xx)\n",
    "            t[i+1] = t[i] + dt\n",
    "            r = a * t[i+1]\n",
    "            for j in range(0, xx.size):\n",
    "                unnt[j, i] = tfunc((xx[j] - x0 - r) % (xf - x0) + x0) \n",
    "            tmp = unnt[bnd_limits[0]:hh.size-bnd_limits[1], i]\n",
    "            unnt[:, i] = np.pad(tmp, bnd_limits, bnd_type) \n",
    "        return t, unnt\n",
    "\n",
    "def compare(nump, nt, a, CFL, ddx = lambda x,y: nm.deriv_fwd(x, y), bnd_limits: list=[0,1],):\n",
    "    nint, dh, xx, xx_half = discretisation(x0, xf, nump, dt_float=np.float64)\n",
    "\n",
    "    hh = np.zeros(nump)\n",
    "    for i in range(0, nump):\n",
    "        hh[i] = tfunc(xx[i])\n",
    "\n",
    "    t, unnt = nm.evolv_adv_burgers(xx, hh, nt, a, CFL, ddx, 'wrap', bnd_limits)\n",
    "    t_exact, unnt_exact = exactU(xx, hh, nt, a, CFL, bnd_limits, 'wrap')\n",
    "\n",
    "    # Using pyplot for animation\n",
    "    plt.figure()\n",
    "    plt.xlim(xx[0], xx[nump-1])\n",
    "    plt.ylim(unnt_exact.min() - 0.1 * (unnt_exact.max() - unnt_exact.min()), unnt_exact.max() + 0.1 * (unnt_exact.max() - unnt_exact.min()))\n",
    "    plt.xlabel(\"x\")\n",
    "    plt.ylabel(\"u\") \n",
    "    line1, = plt.plot([], [], label='Exact solution')\n",
    "    line2, = plt.plot([], [], '--', label='Numerical solution')\n",
    "\n",
    "    plt.legend(loc='upper right')\n",
    "    time_text = plt.text(0.02, 0.95, '', transform=plt.gca().transAxes)\n",
    " \n",
    "    def init():\n",
    "        line1.set_data([], [])\n",
    "        line2.set_data([], [])\n",
    "        time_text.set_text('')\n",
    "        return line1, line2\n",
    " \n",
    "    def update(frame):\n",
    "        line1.set_data(xx, unnt_exact[:,frame])  \n",
    "        line2.set_data(xx, unnt[:,frame])   \n",
    "        time_text.set_text(\"Time = \" + str(t[frame]))\n",
    "        return line1, line2\n",
    " \n",
    "    anim = animation.FuncAnimation(plt.gcf(), update, init_func=init, frames=t.size-1, blit=True)\n",
    "    plt.show(block=True)\n",
    "\n",
    "limits = [1, 0] # becomes [0, 1] when using deriv_fwd\n",
    "nt = 30\n",
    "#for nump in (65, 129, 1025):\n",
    "#    compare(nump, int(nt*(nump-1)/64), a, CFL, ddx=nm.deriv_bck, bnd_limits=limits) # Using deriv_fwd or deriv_bck to see different behaviours"
   ]
  },
  {
   "cell_type": "markdown",
   "metadata": {},
   "source": [
    "2 – Centered differences"
   ]
  },
  {
   "cell_type": "code",
   "execution_count": 12,
   "metadata": {},
   "outputs": [],
   "source": [
    "limits = [1, 1]\n",
    "nt = 10\n",
    "\n",
    "#for nump in (65, 129, 257):\n",
    "#    compare(nump, int(nt*(nump-1)/64), a, CFL, ddx=nm.deriv_cent, bnd_limits=limits) # previous gifs overwritten\n",
    "\n",
    "CFL = 0.3\n",
    "#for nump in (65, 129, 257):\n",
    "#    compare(nump, int(nt*(nump-1)/64)*3, a, CFL, ddx=nm.deriv_cent, bnd_limits=limits) # previous gifs overwritten"
   ]
  },
  {
   "cell_type": "markdown",
   "metadata": {},
   "source": [
    "3 – The stability of the non-centered finite-differences schemes\n",
    "\n",
    "\n",
    "_For simplicity, below the same number of time steps are used for different CFL numbers, but the numerical behaviours are rather clear. When CFL=0.5, there is no instability but strong diffusion. When CFL=0.99 or 1.01, the resutls are similar but the former one leads to minor diffusion and the later on leads to minor instability, indicated by the increasing amplitude. When CFL=2, the instability completely spoils the result._"
   ]
  },
  {
   "cell_type": "code",
   "execution_count": 13,
   "metadata": {},
   "outputs": [
    {
     "name": "stderr",
     "output_type": "stream",
     "text": [
      "can't invoke \"event\" command: application has been destroyed\n",
      "    while executing\n",
      "\"event generate $w <<ThemeChanged>>\"\n",
      "    (procedure \"ttk::ThemeChanged\" line 6)\n",
      "    invoked from within\n",
      "\"ttk::ThemeChanged\"\n"
     ]
    }
   ],
   "source": [
    "nump = 129\n",
    "limits = [1, 0]\n",
    "nt = 100\n",
    "for CFL in (0.5, 0.99, 1.01, 2.0):\n",
    "    compare(nump, nt, a, CFL, ddx=nm.deriv_bck, bnd_limits=limits) "
   ]
  },
  {
   "cell_type": "markdown",
   "metadata": {},
   "source": [
    "4- Optional (A)"
   ]
  },
  {
   "cell_type": "code",
   "execution_count": 14,
   "metadata": {},
   "outputs": [],
   "source": [
    "x0 = -1.4 \n",
    "xf = 2.0\n",
    "xc = 0.7\n",
    "W = 0.1\n",
    "B = 0.3\n",
    "\n",
    "def tfunc_Burgers(xx, A):\n",
    "    return A * (math.tanh((xx + xc) / W) - math.tanh((xx - xc) / W)) + B\n",
    "\n",
    "def run_Burgers(nump, nt, CFL, A, ddx = lambda x,y: nm.deriv_fwd(x, y), bnd_limits: list=[0,1],):\n",
    "    nint, dh, xx, xx_half = discretisation(x0, xf, nump, dt_float=np.float64)\n",
    "\n",
    "    hh = np.zeros(nump)\n",
    "    for i in range(0, nump):\n",
    "        hh[i] = tfunc_Burgers(xx[i], A)\n",
    " \n",
    "    t, unnt = nm.evolv_uadv_burgers(xx, hh, nt, CFL, ddx, 'wrap', bnd_limits)\n",
    "    \n",
    "    plt.figure()\n",
    "    plt.xlim(xx[0], xx[nump-1])\n",
    "    plt.ylim(unnt[:,0].min() - 0.1 * (unnt[:,0].max() - unnt[:,0].min()), unnt[:,0].max() + 0.1 * (unnt[:,0].max() - unnt[:,0].min()))\n",
    "    plt.xlabel(\"x\")\n",
    "    plt.ylabel(\"u\") \n",
    "    line, = plt.plot([], [], '--', label='Numerical solution of the nonlinear Burgers equation: A='+str(A))\n",
    "\n",
    "    plt.legend(loc='lower right')\n",
    "    time_text = plt.text(0.02, 0.95, '', transform=plt.gca().transAxes)\n",
    " \n",
    "    def init():\n",
    "        line.set_data([], [])\n",
    "        time_text.set_text('')\n",
    "        return line,\n",
    " \n",
    "    def update(frame):\n",
    "        line.set_data(xx, unnt[:,frame]) \n",
    "        time_text.set_text(\"Time = \" + str(t[frame]))\n",
    "        return line, \n",
    " \n",
    "    anim = animation.FuncAnimation(plt.gcf(), update, init_func=init, frames=t.size-1, blit=True)\n",
    "    plt.show(block=True)\n",
    "\n",
    "nump = 129\n",
    "limits = [1, 0] \n",
    "CFL = 0.98\n",
    "A = 1.0\n",
    "nt = 20\n",
    "#run_Burgers(nump, nt, CFL, A, ddx=nm.deriv_bck, bnd_limits=limits)  \n",
    "A = -0.02\n",
    "nt = 1000\n",
    "#run_Burgers(nump, nt, CFL, A, ddx=nm.deriv_bck, bnd_limits=limits)  "
   ]
  },
  {
   "cell_type": "markdown",
   "metadata": {},
   "source": [
    "4- Optional (B) \n",
    "\n",
    "_When using forward differencing, numerical instability appears soon. Moreover, because the time step depends on the maximum local speed, time steps drastically decrease when the maximum speed increases, and thus the wave propagation becomes invisible._"
   ]
  },
  {
   "cell_type": "code",
   "execution_count": 15,
   "metadata": {},
   "outputs": [
    {
     "name": "stderr",
     "output_type": "stream",
     "text": [
      "can't invoke \"event\" command: application has been destroyed\n",
      "    while executing\n",
      "\"event generate $w <<ThemeChanged>>\"\n",
      "    (procedure \"ttk::ThemeChanged\" line 6)\n",
      "    invoked from within\n",
      "\"ttk::ThemeChanged\"\n"
     ]
    },
    {
     "ename": "",
     "evalue": "",
     "output_type": "error",
     "traceback": [
      "\u001b[1;31mThe Kernel crashed while executing code in the current cell or a previous cell. \n",
      "\u001b[1;31mPlease review the code in the cell(s) to identify a possible cause of the failure. \n",
      "\u001b[1;31mClick <a href='https://aka.ms/vscodeJupyterKernelCrash'>here</a> for more info. \n",
      "\u001b[1;31mView Jupyter <a href='command:jupyter.viewOutput'>log</a> for further details."
     ]
    }
   ],
   "source": [
    "nump = 257\n",
    "limits = [0, 1] \n",
    "CFL = 0.98\n",
    "A = 1.0\n",
    "nt = 20\n",
    "run_Burgers(nump, nt, CFL, A, ddx=nm.deriv_fwd, bnd_limits=limits)  \n",
    "\n",
    "def run_2Burgers(nump, nt, CFL, A, ddx1 = lambda x,y: nm.deriv_fwd(x, y), ddx2 = lambda x,y: nm.deriv_bck(x, y), bnd_limits: list=[0,1],):\n",
    "    nint, dh, xx, xx_half = discretisation(x0, xf, nump, dt_float=np.float64)\n",
    "\n",
    "    hh = np.zeros(nump)\n",
    "    for i in range(0, nump):\n",
    "        hh[i] = tfunc_Burgers(xx[i], A)\n",
    " \n",
    "    t1, unnt1 = nm.evolv_uadv_burgers(xx, hh, nt, CFL, ddx1, 'wrap', bnd_limits)\n",
    "    t2, unnt2 = nm.evolv_uadv_burgers(xx, hh, nt, CFL, ddx2, 'wrap', bnd_limits)\n",
    "\n",
    "    plt.figure()\n",
    "    plt.xlim(xx[0], xx[nump-1])\n",
    "    plt.ylim(unnt1.min() - 0.1 * (unnt1.max() - unnt1.min()), unnt1.max() + 0.1 * (unnt1.max() - unnt1.min()))\n",
    "    plt.xlabel(\"x\")\n",
    "    plt.ylabel(\"u\") \n",
    "    line1, = plt.plot([], [], '--', label='Numerical solution 1')\n",
    "    line2, = plt.plot([], [], '--', label='Numerical solution 2')\n",
    "    line3, = plt.plot([], [], '--', label='Initial solution')\n",
    "\n",
    "    plt.legend(loc='lower right')\n",
    "    time_text = plt.text(0.02, 0.95, '', transform=plt.gca().transAxes)\n",
    " \n",
    "    def init():\n",
    "        line1.set_data([], [])\n",
    "        line2.set_data([], [])\n",
    "        line3.set_data([], [])\n",
    "        time_text.set_text('')\n",
    "        return line1, line2\n",
    " \n",
    "    def update(frame):\n",
    "        line1.set_data(xx, unnt1[:,frame])  \n",
    "        line2.set_data(xx, unnt2[:,frame]) \n",
    "        line3.set_data(xx, unnt1[:,0]) \n",
    "        time_text.set_text(\"Time 1 = \"+str(t1[frame]))\n",
    "        return line1, line2\n",
    " \n",
    "    anim = animation.FuncAnimation(plt.gcf(), update, init_func=init, frames=t1.size-1, blit=True)\n",
    "    plt.show(block=True)\n",
    "\n",
    "nt = 3\n",
    "nump = 65\n",
    "run_2Burgers(nump, nt, CFL, A, ddx1=nm.deriv_fwd, ddx2=nm.deriv_bck, bnd_limits=limits)   "
   ]
  }
 ],
 "metadata": {
  "kernelspec": {
   "display_name": "ast5110_course",
   "language": "python",
   "name": "python3"
  },
  "language_info": {
   "codemirror_mode": {
    "name": "ipython",
    "version": 3
   },
   "file_extension": ".py",
   "mimetype": "text/x-python",
   "name": "python",
   "nbconvert_exporter": "python",
   "pygments_lexer": "ipython3",
   "version": "3.11.8"
  }
 },
 "nbformat": 4,
 "nbformat_minor": 2
}
