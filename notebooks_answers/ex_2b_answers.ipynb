{
 "cells": [
  {
   "cell_type": "markdown",
   "metadata": {},
   "source": [
    "1 – The $a = const$ case: the mathematical problem"
   ]
  },
  {
   "cell_type": "code",
   "execution_count": 1,
   "metadata": {},
   "outputs": [],
   "source": [
    "import sys \n",
    "import os   \n",
    "sys.path.append(os.getcwd() + '/..')\n",
    "import numpy as np\n",
    "import math\n",
    "import matplotlib.pyplot as plt \n",
    "import nm_lib as nm\n",
    "from typing import Type\n",
    "from matplotlib import animation\n",
    "import matplotlib\n",
    "matplotlib.use('TkAgg')\n",
    "\n",
    "# --- Values reused in other tasks of ex_2 ---\n",
    "x0 = -2.6 \n",
    "xf = 2.6\n",
    "pi = math.pi\n",
    "# ---------------------------\n",
    "\n",
    "def tfunc(xx):\n",
    "    return math.cos(6.0 * pi * xx / 5.0) * math.cos(6.0 * pi * xx / 5.0) /  math.cosh(5.0 * xx * xx)\n",
    "\n",
    "def discretisation(x0, xf, nump, dt_float: Type[float]):\n",
    "    nint = nump - 1\n",
    "    dh = dt_float((xf - x0) / nint)\n",
    "    xx = dt_float(np.arange(nump) * dh + x0) \n",
    "    xx_half = dt_float(np.arange(nump) * dh + x0 + dh * 0.5)\n",
    "    return nint, dh, xx, xx_half\n",
    "    \n",
    "nump = 65\n",
    "nint, dh, xx, xx_half = discretisation(x0, xf, nump, dt_float=np.float64)\n",
    "\n",
    "hh = np.zeros(nump)\n",
    "for i in range(0, nump):\n",
    "    hh[i] = tfunc(xx[i])\n",
    "\n",
    "# Using pyplot for plotting\n",
    "plt.plot(xx, hh, '-+', label='original function')\n",
    "plt.xlabel(\"x\")\n",
    "plt.ylabel(\"u\")\n",
    "plt.legend(loc='upper right', shadow=False, fontsize='x-large')\n",
    "plt.figtext(0.5, 0.01, \"Original function with 65 grid points\", ha='center')\n",
    "plt.show()"
   ]
  },
  {
   "cell_type": "markdown",
   "metadata": {},
   "source": [
    "2 – Spatial derivative.\n",
    "\n",
    "_According to the results blow (using nm_lib.order_conv), it seems the accuracy of the backward difference is only 1st-order. However, it was shown previously the accuracy of the backward difference is 2nd-order._\n",
    "\n",
    "_To explain this, first we need to note that the results from nm_lib.deriv_bck (or nm_lib.deriv_fwd) are defined on the half-points. While mesh refinement happens (double the grid points), the locations of half-points on different meshes are never the same (mislocated by $\\frac{1}{2}\\Delta x$). Therefore, the results of the order_conv function would be always 1st-order for variables defined on half-points._\n",
    "\n",
    "_Nevertheless, this does not affect the \"actual\" or theoretical accuracy of equation (3), but the 2nd-order accurate derivatives would in fact represent the derivatives at half-points $x=x_{\\frac{1}{2}}$, not $x=x_i$._"
   ]
  },
  {
   "cell_type": "code",
   "execution_count": 2,
   "metadata": {},
   "outputs": [
    {
     "name": "stdout",
     "output_type": "stream",
     "text": [
      "The order of accuracy of the backward difference method is 0.7507997583545996\n"
     ]
    }
   ],
   "source": [
    "hp_numerical  = nm.deriv_bck(xx, hh, dtype=np.float64)\n",
    "\n",
    "nump2 = 129\n",
    "nint2, dh2, xx2, xx_half2 = discretisation(x0, xf, nump2, dt_float=np.float64)\n",
    "hh2 = np.zeros(nump2)\n",
    "for i in range(0, nump2):\n",
    "    hh2[i] = tfunc(xx2[i])\n",
    "hp_numerical2  = nm.deriv_bck(xx2, hh2, dtype=np.float64) \n",
    "\n",
    "nump4 = 257\n",
    "nint4, dh4, xx4, xx_half4 = discretisation(x0, xf, nump4, dt_float=np.float64)\n",
    "hh4 = np.zeros(nump4)\n",
    "for i in range(0, nump4):\n",
    "    hh4[i] = tfunc(xx4[i])\n",
    "hp_numerical4  = nm.deriv_bck(xx4, hh4, dtype=np.float64)\n",
    "\n",
    "plt.plot(xx_half4[1:nump4-1], hp_numerical4[1:nump4-1], 'x-', label='Numerical derivative')\n",
    "plt.xlabel(\"x\")\n",
    "plt.ylabel(\"up\")\n",
    "plt.legend(loc='upper right', shadow=False, fontsize='x-large')\n",
    "plt.figtext(0.5, -0.05, \"Numerical derivatives with\\n\" \\\n",
    "            +str(nump4)+\" grid points and \"+str(np.float64), ha='center')\n",
    "plt.show()\n",
    "\n",
    "print(\"The order of accuracy of the backward difference method is\", nm.order_conv(hp_numerical, hp_numerical2, hp_numerical4))"
   ]
  },
  {
   "cell_type": "markdown",
   "metadata": {},
   "source": [
    "3 – Time advance"
   ]
  },
  {
   "cell_type": "code",
   "execution_count": 3,
   "metadata": {},
   "outputs": [
    {
     "name": "stderr",
     "output_type": "stream",
     "text": [
      "invalid command name \"4856798080process_stream_events\"\n",
      "    while executing\n",
      "\"4856798080process_stream_events\"\n",
      "    (\"after\" script)\n",
      "can't invoke \"event\" command: application has been destroyed\n",
      "    while executing\n",
      "\"event generate $w <<ThemeChanged>>\"\n",
      "    (procedure \"ttk::ThemeChanged\" line 6)\n",
      "    invoked from within\n",
      "\"ttk::ThemeChanged\"\n"
     ]
    }
   ],
   "source": [
    "CFL = 0.98\n",
    "a = -1\n",
    "dt, hh_step1 = nm.step_adv_burgers(xx, hh, a, CFL, nm.deriv_bck) \n",
    "hh_step1 = hh + hh_step1 * dt\n",
    "\n",
    "plt.plot(xx[1:nump-1], hh[1:nump-1], 'x-', label='Initial solution')\n",
    "plt.plot(xx[0:nump-1], hh_step1[0:nump-1], 'x-', label='One step temporal solution')\n",
    "plt.xlabel(\"x\")\n",
    "plt.ylabel(\"u\")\n",
    "plt.legend(loc='upper right', shadow=False, fontsize='x-large')\n",
    "plt.figtext(0.5, -0.05, \"One step temporal solution of the linear advection equation\\n\" \\\n",
    "            \"with \"+str(nump)+\" grid points\", ha='center')\n",
    "plt.show()"
   ]
  },
  {
   "cell_type": "markdown",
   "metadata": {},
   "source": [
    " 4 – The boundaries"
   ]
  },
  {
   "cell_type": "markdown",
   "metadata": {},
   "source": [
    "5 – Subsequent steps in time"
   ]
  },
  {
   "cell_type": "markdown",
   "metadata": {},
   "source": [
    "6 – Comparison with the exact solution\n",
    "\n",
    "_As mentioned previously, the derivatives at grid points are calculated using the forward difference method, and thus below we can see that the numerical solution is a bit shifted compared with the exact solution. More importantly, the amplitude of the numerical solution decreases over time, due to the numerical diffusion. Looking into the details, we can also find that the initial symmetric pulse becomes unsymmetric, which is caused by numerical dispersion._"
   ]
  },
  {
   "cell_type": "code",
   "execution_count": 4,
   "metadata": {},
   "outputs": [
    {
     "name": "stderr",
     "output_type": "stream",
     "text": [
      "invalid command name \"5110113728process_stream_events\"\n",
      "    while executing\n",
      "\"5110113728process_stream_events\"\n",
      "    (\"after\" script)\n",
      "can't invoke \"event\" command: application has been destroyed\n",
      "    while executing\n",
      "\"event generate $w <<ThemeChanged>>\"\n",
      "    (procedure \"ttk::ThemeChanged\" line 6)\n",
      "    invoked from within\n",
      "\"ttk::ThemeChanged\"\n"
     ]
    }
   ],
   "source": [
    "def exactU(xx, hh, nt, a, CFL, bnd_limits, bnd_type: str = 'wrap'):\n",
    "    if xx.size != hh.size:\n",
    "        return None\n",
    "    else:\n",
    "        t = np.zeros(nt)\n",
    "        unnt = np.zeros((xx.size, nt))   \n",
    "        for i in range(0, nt - 1):\n",
    "            dt = CFL * nm.cfl_adv_burger(a, xx)\n",
    "            t[i+1] = t[i] + dt\n",
    "            r = a * t[i+1]\n",
    "            for j in range(0, xx.size):\n",
    "                unnt[j, i] = tfunc((xx[j] - x0 - r) % (xf - x0) + x0) \n",
    "            tmp = unnt[bnd_limits[0]:hh.size-bnd_limits[1], i]\n",
    "            unnt[:, i] = np.pad(tmp, bnd_limits, bnd_type) \n",
    "        return t, unnt\n",
    "\n",
    "def compare(nump, nt, a, CFL, bnd_limits):\n",
    "    nint, dh, xx, xx_half = discretisation(x0, xf, nump, dt_float=np.float64)\n",
    "\n",
    "    hh = np.zeros(nump)\n",
    "    for i in range(0, nump):\n",
    "        hh[i] = tfunc(xx[i])\n",
    "\n",
    "    t, unnt = nm.evolv_adv_burgers(xx, hh, nt, a, CFL, nm.deriv_fwd, 'wrap', bnd_limits)\n",
    "    t_exact, unnt_exact = exactU(xx, hh, nt, a, CFL, bnd_limits, 'wrap')\n",
    "\n",
    "    # Using pyplot for animation\n",
    "    plt.figure()\n",
    "    plt.xlim(xx[0], xx[nump-1])\n",
    "    plt.ylim(unnt_exact.min() - 0.1 * (unnt_exact.max() - unnt_exact.min()), unnt_exact.max() + 0.1 * (unnt_exact.max() - unnt_exact.min()))\n",
    "    plt.xlabel(\"x\")\n",
    "    plt.ylabel(\"u\") \n",
    "    line1, = plt.plot([], [], label='Exact solution')\n",
    "    line2, = plt.plot([], [], '--', label='Numerical solution')\n",
    "\n",
    "    plt.legend(loc='upper right')\n",
    "    time_text = plt.text(0.02, 0.95, '', transform=plt.gca().transAxes)\n",
    " \n",
    "    def init():\n",
    "        line1.set_data([], [])\n",
    "        line2.set_data([], [])\n",
    "        time_text.set_text('')\n",
    "        return line1, line2\n",
    " \n",
    "    def update(frame):\n",
    "        line1.set_data(xx, unnt_exact[:,frame])  \n",
    "        line2.set_data(xx, unnt[:,frame])   \n",
    "        time_text.set_text(\"Time = \" + str(t[frame]))\n",
    "        return line1, line2\n",
    " \n",
    "    anim = animation.FuncAnimation(plt.gcf(), update, init_func=init, frames=t.size-1, blit=True)\n",
    "    plt.show(block=True)\n",
    "\n",
    "bnd_limits = [0, 1]\n",
    "compare(65, 100, -1, 0.98, bnd_limits)"
   ]
  },
  {
   "cell_type": "markdown",
   "metadata": {},
   "source": [
    "7 – Resolution increase in space and time\n",
    "\n",
    "_From two animations below, we can find that with higher grid resolutions, the numerical results are closer to the exact solution._"
   ]
  },
  {
   "cell_type": "code",
   "execution_count": 5,
   "metadata": {},
   "outputs": [
    {
     "name": "stderr",
     "output_type": "stream",
     "text": [
      "invalid command name \"5133009280process_stream_events\"\n",
      "    while executing\n",
      "\"5133009280process_stream_events\"\n",
      "    (\"after\" script)\n",
      "can't invoke \"event\" command: application has been destroyed\n",
      "    while executing\n",
      "\"event generate $w <<ThemeChanged>>\"\n",
      "    (procedure \"ttk::ThemeChanged\" line 6)\n",
      "    invoked from within\n",
      "\"ttk::ThemeChanged\"\n"
     ]
    }
   ],
   "source": [
    "compare(129, 200, -1, 0.98, bnd_limits)\n",
    "compare(257, 400, -1, 0.98, bnd_limits)"
   ]
  },
  {
   "cell_type": "markdown",
   "metadata": {},
   "source": []
  }
 ],
 "metadata": {
  "kernelspec": {
   "display_name": "ast5110_course",
   "language": "python",
   "name": "python3"
  },
  "language_info": {
   "codemirror_mode": {
    "name": "ipython",
    "version": 3
   },
   "file_extension": ".py",
   "mimetype": "text/x-python",
   "name": "python",
   "nbconvert_exporter": "python",
   "pygments_lexer": "ipython3",
   "version": "3.11.8"
  }
 },
 "nbformat": 4,
 "nbformat_minor": 2
}
