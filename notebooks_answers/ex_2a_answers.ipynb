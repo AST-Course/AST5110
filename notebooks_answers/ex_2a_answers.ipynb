{
 "cells": [
  {
   "cell_type": "markdown",
   "metadata": {},
   "source": [
    "1 – Solution for constant advection speed.\n",
    "\n",
    "\n",
    "_If $a$ is a constant, we can substitute the given $u(x, t) = u_0(x − at)$ into the left hand side of Eq. (1), and then we have_\n",
    "$$\\frac{\\partial u_0(x-at)}{\\partial t} + a \\frac{\\partial u_0(x-at)}{\\partial x}$$\n",
    "$$=\\frac{\\partial u_0(x-at)}{\\partial (x-at)}\\frac{\\partial (x-at)}{\\partial t} + a \\frac{\\partial u_0(x-at)}{\\partial (x-at)}\\frac{\\partial (x-at)}{\\partial x}$$\n",
    "$$=-a\\frac{\\partial u_0(x-at)}{\\partial (x-at)} + a \\frac{\\partial u_0(x-at)}{\\partial (x-at)}=0.$$\n",
    "_Therefore, the given solution is an exact solution of equation (1)._\n",
    "\n",
    "_Having $a=const$ means that any point in the present whole one-dimensional space will always travel at the same speed, without changing the relative speed between any two points. In other words, the motion is rigid._\n",
    "\n",
    "_The space-time trajectory asked is $x=x_0-at$, resulting from $\\frac{\\text{d} x}{\\text{d} t}=-a$._"
   ]
  },
  {
   "cell_type": "markdown",
   "metadata": {},
   "source": [
    "2 – Solution for non-constant advection speed of the type $a(x, t)$\n",
    "\n",
    "\n",
    "_By assuming $u$ as a function of a new variable $s$, we have_\n",
    "$$\\frac{d u}{d s}=\\frac{\\partial u}{\\partial t}\\frac{d t}{d s}+\\frac{\\partial u}{\\partial x}\\frac{d x}{d s}$$\n",
    "_which, when having $\\frac{\\partial t}{\\partial s}=1$ and $\\frac{\\partial x}{\\partial s}=a$, leads to_\n",
    "$$\\frac{d x}{d t}=(\\frac{d x}{d s})/(\\frac{d t}{d s})=a$$\n",
    "_and, more importantly_\n",
    "$$\\frac{d u}{d s}\\equiv 0$$\n",
    "_Since $s$ only differs from $t$ by a constant, a solution $u$ does not change its shape along its corresponding space-time trajectory._"
   ]
  },
  {
   "cell_type": "markdown",
   "metadata": {},
   "source": [
    "3 – The acceleration of a fluid and Burgers’ equation\n",
    "\n",
    "_The acceleration of a given fluid element can be provided as_\n",
    "$$\\frac{d^2 x_L}{dt^2} = \\frac{d u[x_L(t),t]}{d t}=\\frac{d u}{d x}\\frac{d x}{d t}+\\frac{d u}{d t}=\\frac{d u}{d t}+u\\frac{d u}{d x}$$\n",
    "_The very right-hand-side is the same as the (inviscid) Burger's equation, and thus, along the trajectory of a given individual element, the velocity is constant. Similarly, and velocity field that satisfies Burgers’ equation, will not experience acceleration._\n",
    "\n",
    "_It is easy to see that $\\frac{x_L(t)}{d t}=u_0$, and thus the acceleration is also zero._\n"
   ]
  }
 ],
 "metadata": {
  "language_info": {
   "name": "python"
  }
 },
 "nbformat": 4,
 "nbformat_minor": 2
}
