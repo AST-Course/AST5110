{
 "cells": [
  {
   "attachments": {},
   "cell_type": "markdown",
   "metadata": {},
   "source": [
    "# Simulation with non-uniform characteristic velocity (Optional - DONT DO IT )"
   ]
  },
  {
   "attachments": {},
   "cell_type": "markdown",
   "metadata": {},
   "source": [
    "## 1 – Non-uniform velocity."
   ]
  },
  {
   "cell_type": "markdown",
   "metadata": {},
   "source": [
    "Repeat the simulation of exercise 2a, but now using a non-uniform velocity $a$ (even though constant in time) of the form:"
   ]
  },
  {
   "attachments": {},
   "cell_type": "markdown",
   "metadata": {},
   "source": [
    "$$a(x) = -\\frac{1}{4}\\left\\{\\frac{1}{2} + 5 \\cos^2 \\left[\\frac{4\\pi}{9}s(x)\\right]\\exp[-4s^2(x)]\\right\\} \\tag{1}$$"
   ]
  },
  {
   "cell_type": "markdown",
   "metadata": {},
   "source": [
    "with $s(x) = -1 + 2\\frac{x-x_0}{x_f-x_0}$"
   ]
  },
  {
   "cell_type": "markdown",
   "metadata": {},
   "source": [
    "For the experiments, use a large number of intervals, e.g., 2048 or 4096. Since $a(x)$ is no longer uniform, the expression for $\\Delta t$ used in Exercise 2a gives a different value for each point in the grid. We shall take as $\\Delta t$ the minimum of all those values. For this exercise, use `nm.deriv_cent` and `cfl_cut=0.5`. Describe the most important deviations in the behavior of the simulation that you see compared with the case when $a$ was uniform."
   ]
  },
  {
   "attachments": {},
   "cell_type": "markdown",
   "metadata": {},
   "source": [
    "## 2 – Interpretation of the result of the experiment."
   ]
  },
  {
   "cell_type": "markdown",
   "metadata": {},
   "source": [
    "To understand the result we must recall the fundamental property of the linear advection equation, namely: the value of the solution $u(x, t)$ stays constant if we move along the $x$ axis with velocity $a$, i.e., following the curves $x_p(t)$ defined through:"
   ]
  },
  {
   "attachments": {},
   "cell_type": "markdown",
   "metadata": {},
   "source": [
    "$$\\frac{d x_p}{dt} = a[x_p(t),t]  \\tag{2}$$"
   ]
  },
  {
   "cell_type": "markdown",
   "metadata": {},
   "source": [
    "1. If you know how to integrate ordinary differential equations (or, more simply in this case, how to calculate numerical quadratures), find, using Python, the function $x_p(t)$ that solves equation (2) with initial condition $x_p(t = 0) = x_0$. Then do the same for $x_p(t = 0) = x_f$ . Then, once you have the program working for you, it is easy to calculate the $x_p(t)$ function starting from points in the interior of the interval. With those, draw the solutions for a number of representative initial values."
   ]
  },
  {
   "cell_type": "markdown",
   "metadata": {},
   "source": [
    "2. On the basis of the solutions you have just found for $x_p$, interpret the time evolution you see in the PDE solution of paragraph  1."
   ]
  }
 ],
 "metadata": {
  "kernelspec": {
   "display_name": "Python 3",
   "language": "python",
   "name": "python3"
  },
  "language_info": {
   "codemirror_mode": {
    "name": "ipython",
    "version": 3
   },
   "file_extension": ".py",
   "mimetype": "text/x-python",
   "name": "python",
   "nbconvert_exporter": "python",
   "pygments_lexer": "ipython3",
   "version": "3.8.5"
  }
 },
 "nbformat": 4,
 "nbformat_minor": 4
}
