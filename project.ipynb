{
 "cells": [
  {
   "cell_type": "markdown",
   "metadata": {},
   "source": [
    "# Practice: First, Hydro-dynamical PDE models"
   ]
  },
  {
   "cell_type": "markdown",
   "metadata": {},
   "source": [
    "As modelers of stellar atmospheres, we are primarily interested in solving the equations of mass, momentum, and energy balance, along with the equations governing the evolution of the magnetic field, the transport equations for the radiation field, heat flux equations, etc. For this project, we will start with the hydrodynamic equations in 1 dimension as follows: "
   ]
  },
  {
   "cell_type": "markdown",
   "metadata": {},
   "source": [
    "$$ \\frac{\\partial \\rho}{\\partial t} + \\nabla \\cdot (\\rho \\bf u) = 0 $$\n",
    "\n",
    "$$ \\frac{\\partial \\rho {\\bf u}}{\\partial t} + \\nabla \\cdot (\\rho {\\bf u} \\otimes {\\bf u}) = - \\nabla (P_g)$$\n",
    "\n",
    "$$ \\frac{\\partial e}{\\partial t } = -\\nabla\\cdot e {\\bf u} -P_g \\nabla \\cdot {\\bf u}$$\n",
    "\n",
    "where $\\rho$, $\\bf u$, $P_g$, and $e$ are the density, velocity vector, gas pressure, and internal energy. $\\cdot$ and $\\otimes$ are the dyadic and tensorial product, respectively. One extra equation needs to connect the pressure with the energy. For this you can use $P_g  = (\\gamma-1)e/\\rho$ where $\\gamma=5/3$. Note that, in 1 dimension the operation  $\\nabla \\cdot (\\rho {\\bf u} \\otimes {\\bf u})$ becomes as follows: \n",
    "\n",
    "$$ \\nabla \\cdot (\\rho {\\bf u} \\otimes {\\bf u}) = \\frac{\\partial (\\rho u^2)}{\\partial x} $$"
   ]
  },
  {
   "cell_type": "markdown",
   "metadata": {},
   "source": [
    "## 1- Build or select your code \n",
    "\n",
    "In this exercise, you can select one of the following options: \n",
    "\n",
    "1. Build your hydro-dynamical (HD) numerical code applying the tools/functions learned during the 6th different assessment. Solve the above set of equations in one dimension. \n",
    "\n",
    "    __A plus__ implement the [Bifrost 6th order spatial derivative, 5th order spatial interpolation](https://github.com/jumasy/AST5110/wiki/Discretization) with the hyper-diffusion scheme (see [wiki](https://github.com/jumasy/AST5110/wiki/Hyper-diffusive)). Note that Bifrost is using a [staggered mesh](https://github.com/jumasy/AST5110/wiki/Staggered-mesh) where the density, pressure, energy, and temperature are cell-centered, and velocity and momentum are at the edges (in 1 dimension). \n",
    "\n",
    "    __A plus__ implement the [Flux limiter method](https://github.com/jumasy/AST5110/wiki/Flux-limiter-method).\n",
    "\n",
    "    __A plus__ implement the [Rieman Solver method](https://github.com/jumasy/AST5110/wiki/Rieman-Solver-method).\n",
    "\n",
    "    What would you choose for the CFL condition? \n",
    "\n",
    "2. Use the Bifrost, Ebysus, or other numerical codes you are interested in learning. \n",
    "\n",
    "    Note that I can help only with the numerical codes that I'm familiar with, but you should still select the ones you are interested in as long as you have access to them. "
   ]
  },
  {
   "cell_type": "markdown",
   "metadata": {},
   "source": [
    "## 2- Test the code\n",
    "\n",
    "Set your code to run a 1D problem using the following initial conditions. The fluid is initially at rest on either side of a density and pressure jump. To the left, respectively right side of the interface, we have: \n",
    "\n",
    "$\\rho_L = 0.125$\n",
    "\n",
    "$\\rho_R = 1.0$\n",
    "\n",
    "$Pg_L = 0.125/\\gamma$\n",
    "\n",
    "$Pg_R = 1.0/\\gamma$\n",
    "\n",
    "The ratio of specific heats is chosen to be $\\gamma = 5/3$ on both sides of the interface. The units are normalized, with the density and pressure in units of the density and pressure on the left-hand side of the jump and the velocity in units of the sound speed. The length unit is the size of the domain and the time in units of the time required to cross the domain at the speed of sound.\n",
    "\n",
    "What boundary conditions would you choose?\n",
    "What do you see? \n",
    "\n",
    "This is known as the Sod-shock tube test [Sod et al. 1978](https://ui.adsabs.harvard.edu/abs/1978JCoPh..27....1S/abstract), a standard test in computational HD codes. It consists of a one-dimensional flow discontinuity problem that provides a good test of a compressible code’s ability to capture shocks and contact discontinuities within a few grid zones and produce the correct density profile in a rarefaction or expansion wave. The test can also be used to check if the code can satisfy the Rankine-Hugoniot shock jump conditions since this test has an analytical solution. If you have access, you can also look at _Computational Gasdynamics book from Culbert B. Laney_ Section 5. However, many other books will describe this problem in detail. \n",
    " \n",
    "Compare the simulation with the analytical solution. This could be used for a sanity test after new additions to the code. \n",
    "\n",
    "__Suggestion__ This test might be too complex to debug the code. However, as a starting debugging test, you can consider an advection test (constant initial velocity) of a gaussian density perturbation in pressure balance. "
   ]
  }
 ],
 "metadata": {
  "kernelspec": {
   "display_name": "Python 3 (ipykernel)",
   "language": "python",
   "name": "python3"
  },
  "language_info": {
   "codemirror_mode": {
    "name": "ipython",
    "version": 3
   },
   "file_extension": ".py",
   "mimetype": "text/x-python",
   "name": "python",
   "nbconvert_exporter": "python",
   "pygments_lexer": "ipython3",
   "version": "3.8.5"
  }
 },
 "nbformat": 4,
 "nbformat_minor": 4
}
