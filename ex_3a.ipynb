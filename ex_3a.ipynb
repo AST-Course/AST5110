{
 "cells": [
  {
   "attachments": {},
   "cell_type": "markdown",
   "metadata": {},
   "source": [
    "# The instability of numerical codes: symptoms"
   ]
  },
  {
   "cell_type": "markdown",
   "metadata": {},
   "source": [
    "The instability of numerical schemes and codes is one of the important problems that a researcher using numerical experimentation may encounter. In this exercise we are going to see how violent the numerical instabilities can be."
   ]
  },
  {
   "attachments": {},
   "cell_type": "markdown",
   "metadata": {},
   "source": [
    "## 1 – Numerical instability: violent development"
   ]
  },
  {
   "cell_type": "markdown",
   "metadata": {},
   "source": [
    "1. Repeat the numerical simulation carried out __in exercise 2a__, but now take $a = 1$ (it was $a = −1$); (use a moderate number of intervals, like, e.g., 128). Check out what happens. After how many timesteps does an instability become evident?\n",
    "\n",
    "Repeat the experiment with 1024 points (and afterwards with any other power of 2 you may want to use). Is the experiment stable now? After how many timesteps does the instability become evident now?\n",
    "\n",
    "2. Still for $a = 1$, use for the spatial differentiation backward finite differencing, i.e.:"
   ]
  },
  {
   "attachments": {},
   "cell_type": "markdown",
   "metadata": {},
   "source": [
    "$$\\left(\\frac{\\partial u}{\\partial x}\\right)_{x=x_i} \\rightarrow \\frac{u_i-u_{i-1}}{\\Delta x}  \\tag{1}$$"
   ]
  },
  {
   "cell_type": "markdown",
   "metadata": {},
   "source": [
    "Fill in the nm_lib function `deriv_upw`, and use the `lambda` function `ddx` and select the right limits for `bnd_limits`. "
   ]
  },
  {
   "cell_type": "markdown",
   "metadata": {},
   "source": [
    "__taking care of also changing the implementation of the boundary condition.__ Does the unstable character of the code change?"
   ]
  },
  {
   "attachments": {},
   "cell_type": "markdown",
   "metadata": {},
   "source": [
    "## 2 – Centered differences"
   ]
  },
  {
   "cell_type": "markdown",
   "metadata": {},
   "source": [
    "Use now for the spatial derivation _centered finite differences_, i.e.:"
   ]
  },
  {
   "attachments": {},
   "cell_type": "markdown",
   "metadata": {},
   "source": [
    "$$\\left(\\frac{\\partial u}{\\partial x}\\right)_{x=x_i} \\rightarrow \\frac{u_{i+1}-u_{i-1}}{2\\Delta x}   \\tag{2}$$"
   ]
  },
  {
   "cell_type": "markdown",
   "metadata": {},
   "source": [
    "(and see the note on boundary conditions below). Fill in `nm_lib` the function `deriv_cent`, and like in the previous case, use the `lambda` function `ddx` and select the right limits for `bnd_limits`.  Use `cfl_cut=0.3`. Is any instability apparent in this case? Does the situation change when you change the sign of the constant $a$?\n",
    "\n",
    "Note: In this case, the periodicity boundary condition can be implemented as follows: define $xx$ so that the endpoint $x = x_0$ of the domain coincides with $xx[1]$ (i.e., the second component of the array) and the endpoint $x = x_f$ coincides with the last component of the array [i.e, $xx[nump-1]$]. For the boundary condition you can do the following: assume you are calling uun the array at time $t + \\Delta t$. Then the boundary condition is imposed by specifying $uun[0] = uun[nump-2]$ and $uun[nump-1] = uun[1]$."
   ]
  },
  {
   "attachments": {},
   "cell_type": "markdown",
   "metadata": {},
   "source": [
    "## 3 – The stability of the non-centered finite-differences schemes"
   ]
  },
  {
   "cell_type": "markdown",
   "metadata": {},
   "source": [
    "In the foregoing exercises we saw that, when $a > 0$, a _backward-oriented_ finite-difference scheme yields stability. However, a crucial component in the problem was to give a specific value for $\\Delta t$, namely  $t = 0.98 x/|a|$. Would it have been wise to choose a larger or smaller $\\Delta t$? Let us check that $\\Delta t$ cannot be chosen arbitrarily large: run the program, but now writing"
   ]
  },
  {
   "cell_type": "markdown",
   "metadata": {},
   "source": [
    "1. $\\Delta t = 0.5 \\frac{\\Delta x}{a}$;\n",
    "2. $\\Delta t = 0.99 \\frac{\\Delta x}{a}$;\n",
    "3. $\\Delta t = 1.01 \\frac{\\Delta x}{a}$;\n",
    "4. $\\Delta t = 2 \\frac{\\Delta x}{a}$;"
   ]
  },
  {
   "cell_type": "markdown",
   "metadata": {},
   "source": [
    "and check if those values maintain the good stability properties of the code. Does there seem to be a threshold in $\\Delta t$ for the instability?. Note for this you need to define `cfl_cut` to 0.5, 0.99, 1.01, and 2.0."
   ]
  },
  {
   "attachments": {},
   "cell_type": "markdown",
   "metadata": {},
   "source": [
    "## 4- Optional (A). \n",
    "\n",
    "Consider now the following Burgers’ equation, i.e.,\n",
    "\n",
    "$$\\frac{\\partial u}{\\partial t} + u \\frac{\\partial u}{\\partial x} = 0   \\tag{3}$$\n",
    "\n",
    "can be seen as yet another case of the equation solved in the previous exercises of this\n",
    "series by writing:\n",
    "\n",
    "$$a(x,t,u) = u  \\tag{4}$$\n",
    "\n",
    "The importance of this equation in physics derives in part from the fact that it describes\n",
    "the motion of a non-accelerated fluid with arbitrary velocity field at time $t = 0$ and\n",
    "because it contains the possibility of spontaneous formation of discontinuities. (\\*)\n",
    "\n",
    "We can solve equation (1) in a simple way by modifying the program developed for the previous exercises but now writing $a(x_i, t^n) = u^n_i$. Carry out that modification, and run the program in the domain $x \\in (x_0, x_f)$ with $x_0 = −1.4$, $x_f = 2.0$ with initial condition:\n",
    "\n",
    "$$u(x,t=0) = A\\left[\\tanh\\left(\\frac{x+x_c}{W}\\right)-\\tanh\\left(\\frac{x-x_c}{W}\\right) \\right] + B \\tag{5}$$\n",
    "\n",
    "whereby $A = 1.0$, $x_c = 0.70$, $W = 0.1$, $B = 0.3$. Let the solution evolve until time $t_f = 100$. Explain in physical (or mathematical) terms the solution you get. Change to $A = −0.02$ and explain the result. For this excersice fill in `nm_lib` functions `evolv_uadv_burgers` and `step_uadv_burgers`. \n"
   ]
  },
  {
   "attachments": {},
   "cell_type": "markdown",
   "metadata": {},
   "source": [
    "### Comments:\n",
    "\n",
    "In the numerical solution we see the initial condition patently evolving into something that looks like a discontinuity. We understand that this discontinuity is formed because the characteristic curves $dx_p/dt = a(x, t, u) = u$ are more inclined (i.e., faster) in a spacetime diagram when starting at elements with larger $u$: since the solution is constant along those curves, the faster elements therefore catch those in front of them which have lower $u$ (as is the case in the solution you have found numerically here) – so the solution must steepen when that happens.\n",
    "\n",
    "Mathematically and physically we should not be too surprised: we know that, for instance in gas dynamics, weird nonlinear phenomena take place, some of which (the shocks) have to do with the formation of discontinuities or sharp transitions. Numerically, though, we ought to be rather surprised, for various reasons:\n",
    "    \n",
    "a. the numerical calculation of a very large value of the derivative (as is surely the case across the big jump forming in our calculation) cannot be very accurate. It might even happen, we think, that the program crashed because of _NaNs_ or exceptions, etc, occurring in the calculation. But, in fact, our program happily calculates\n",
    "away ... seemingly forever.\n",
    "\n",
    "b. when a discontinuity forms, the exact mathematical solution, strictly speaking, cannot be calculated in a simple way any more: when there is a discontinuity, one must take into account what are called the jump relations, also called internal boundary conditions, across the discontinuity: they give the mutual relation of the variables on either side of the discontinuity. A solution obtained in this way is called a __weak solution__ in mathematics.\n",
    "\n",
    "c. we finally ask ourselves what the mathematically-exact weak solution would be in this case, and whether our simple numerical scheme does provide a solution near the exact one in spite of the obvious difficulty of handling large jumps across the near-discontinuity.\n",
    "\n",
    "We have to leave these as open questions for discussion at a later point. \n",
    "\n",
    "As a final comment, consider the consequences of the fact that the acceleration in gas dynamics contains a term of the general form $u$ $du/dx$ .... Much of the beautiful physics occurring in the universe is due to non-linearities like this one."
   ]
  },
  {
   "attachments": {},
   "cell_type": "markdown",
   "metadata": {},
   "source": [
    "## 4- Optional (B) \n",
    "\n",
    "For this exersice do first [ex_4a](https://gitlab.com/ast5110_course/ast5110/-/blob/master/ex_4a.ipynb). \n",
    "Consider the same setup as the previous exercise. But now, solve it using the upwind method: \n",
    "\n",
    "$$u^{n+1}_j = u^{n}_j - \\frac{\\Delta t}{\\Delta x} u^{n}_j(u^{n}_j- u^{n}_{j+1})$$\n",
    "\n",
    "And using the Lax method implemented in [ex_4a](https://gitlab.com/ast5110_course/ast5110/-/blob/master/ex_4a.ipynb). What do you see? Argument why do you think the solution is not correct. __Hint__ In the first exersize we argue about the flux conservation. \n",
    "\n"
   ]
  },
  {
   "attachments": {},
   "cell_type": "markdown",
   "metadata": {},
   "source": [
    "### Comments:\n",
    "    \n",
    "See [Stagger mesh](https://gitlab.com/ast5110_course/ast5110/-/wikis/Staggered%20mesh) documentation on how a stagger mesh allows to keep the conservation. "
   ]
  }
 ],
 "metadata": {
  "kernelspec": {
   "display_name": "Python 3",
   "language": "python",
   "name": "python3"
  },
  "language_info": {
   "codemirror_mode": {
    "name": "ipython",
    "version": 3
   },
   "file_extension": ".py",
   "mimetype": "text/x-python",
   "name": "python",
   "nbconvert_exporter": "python",
   "pygments_lexer": "ipython3",
   "version": "3.8.5"
  }
 },
 "nbformat": 4,
 "nbformat_minor": 4
}
